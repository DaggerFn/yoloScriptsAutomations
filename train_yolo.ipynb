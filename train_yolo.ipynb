{
 "cells": [
  {
   "cell_type": "code",
   "execution_count": 1,
   "id": "27cdab28-88e0-4333-a175-bcbdf117652b",
   "metadata": {},
   "outputs": [],
   "source": [
    "from ultralytics import YOLO"
   ]
  },
  {
   "cell_type": "markdown",
   "id": "31154376-296e-4b09-946b-98808778bdbe",
   "metadata": {},
   "source": [
    "Modelos disponíveis para download na Ultralytics\n",
    "\n",
    "Também pode ser encontrado aqui: https://docs.ultralytics.com/models/yolov8/#key-features"
   ]
  },
  {
   "cell_type": "code",
   "execution_count": 2,
   "id": "8af10a0d-92df-4c59-af2e-9d5ccf10ba93",
   "metadata": {},
   "outputs": [
    {
     "data": {
      "text/plain": [
       "['yolov8n',\n",
       " 'yolov8n-cls',\n",
       " 'yolov8n-seg',\n",
       " 'yolov8n-pose',\n",
       " 'yolov8n-obb',\n",
       " 'yolov8n-oiv7',\n",
       " 'yolov8s',\n",
       " 'yolov8s-cls',\n",
       " 'yolov8s-seg',\n",
       " 'yolov8s-pose',\n",
       " 'yolov8s-obb',\n",
       " 'yolov8s-oiv7',\n",
       " 'yolov8m',\n",
       " 'yolov8m-cls',\n",
       " 'yolov8m-seg',\n",
       " 'yolov8m-pose',\n",
       " 'yolov8m-obb',\n",
       " 'yolov8m-oiv7',\n",
       " 'yolov8l',\n",
       " 'yolov8l-cls',\n",
       " 'yolov8l-seg',\n",
       " 'yolov8l-pose',\n",
       " 'yolov8l-obb',\n",
       " 'yolov8l-oiv7',\n",
       " 'yolov8x',\n",
       " 'yolov8x-cls',\n",
       " 'yolov8x-seg',\n",
       " 'yolov8x-pose',\n",
       " 'yolov8x-obb',\n",
       " 'yolov8x-oiv7',\n",
       " 'yolov5nu',\n",
       " 'yolov5n6u',\n",
       " 'yolov5su',\n",
       " 'yolov5s6u',\n",
       " 'yolov5mu',\n",
       " 'yolov5m6u',\n",
       " 'yolov5lu',\n",
       " 'yolov5l6u',\n",
       " 'yolov5xu',\n",
       " 'yolov5x6u',\n",
       " 'yolov3u',\n",
       " 'yolov3-sppu',\n",
       " 'yolov3-tinyu',\n",
       " 'yolov8s-world',\n",
       " 'yolov8m-world',\n",
       " 'yolov8l-world',\n",
       " 'yolov8x-world',\n",
       " 'yolov8s-worldv2',\n",
       " 'yolov8m-worldv2',\n",
       " 'yolov8l-worldv2',\n",
       " 'yolov8x-worldv2',\n",
       " 'yolov9t',\n",
       " 'yolov9s',\n",
       " 'yolov9m',\n",
       " 'yolov9c',\n",
       " 'yolov9e',\n",
       " 'yolov10n',\n",
       " 'yolov10s',\n",
       " 'yolov10m',\n",
       " 'yolov10b',\n",
       " 'yolov10l',\n",
       " 'yolov10x',\n",
       " 'yolo_nas_s',\n",
       " 'yolo_nas_m',\n",
       " 'yolo_nas_l',\n",
       " 'sam_b',\n",
       " 'sam_l',\n",
       " 'FastSAM-s',\n",
       " 'FastSAM-x',\n",
       " 'rtdetr-l',\n",
       " 'rtdetr-x',\n",
       " 'mobile_sam',\n",
       " 'calibration_image_sample_data_20x128x128x3_float32.npy']"
      ]
     },
     "execution_count": 2,
     "metadata": {},
     "output_type": "execute_result"
    }
   ],
   "source": [
    "from ultralytics.utils.downloads import GITHUB_ASSETS_STEMS\n",
    "GITHUB_ASSETS_STEMS"
   ]
  },
  {
   "cell_type": "markdown",
   "id": "f5f0c56f-ecc7-4ab7-b2a3-c35c98fbb937",
   "metadata": {},
   "source": [
    "Configurações padrões do Ultralytics\n",
    "\n",
    "Também pode ser encontrado aqui: https://docs.ultralytics.com/quickstart/#modifying-settings"
   ]
  },
  {
   "cell_type": "code",
   "execution_count": 3,
   "id": "f4388acf-dc9e-469d-8f4b-cd77abdacf8d",
   "metadata": {},
   "outputs": [
    {
     "data": {
      "text/plain": [
       "{'settings_version': '0.0.5',\n",
       " 'datasets_dir': 'C:/Users/gustavonc/Downloads/treinar_yolov8-main/data',\n",
       " 'weights_dir': 'C:/Users/gustavonc/Downloads/treinar_yolov8-main/weights',\n",
       " 'runs_dir': 'C:/Users/gustavonc/Downloads/treinar_yolov8-main/runs',\n",
       " 'uuid': '1a981bb70d9fd6b9f625723f95ef13c6063ad44e5add3882380cc76720d6860a',\n",
       " 'sync': True,\n",
       " 'api_key': '',\n",
       " 'openai_api_key': '',\n",
       " 'clearml': True,\n",
       " 'comet': True,\n",
       " 'dvc': True,\n",
       " 'hub': True,\n",
       " 'mlflow': True,\n",
       " 'neptune': True,\n",
       " 'raytune': True,\n",
       " 'tensorboard': True,\n",
       " 'wandb': True,\n",
       " 'vscode_msg': True}"
      ]
     },
     "execution_count": 3,
     "metadata": {},
     "output_type": "execute_result"
    }
   ],
   "source": [
    "from ultralytics import YOLO, settings\n",
    "settings"
   ]
  },
  {
   "cell_type": "code",
   "execution_count": 4,
   "id": "61fa2199-f7ff-4273-a470-ef5ea8010389",
   "metadata": {},
   "outputs": [],
   "source": [
    "settings.update({'runs_dir': 'C:/Users/gustavonc/Downloads/treinar_yolov8-main/runs'})\n",
    "settings.update({'weights_dir': 'C:/Users/gustavonc/Downloads/treinar_yolov8-main/weights'})\n",
    "settings.update({'datasets_dir': 'C:/Users/gustavonc/Downloads/treinar_yolov8-main/data'})"
   ]
  },
  {
   "cell_type": "code",
   "execution_count": 5,
   "id": "4a045b5d-7d67-4dd7-bacf-3e6d396989c8",
   "metadata": {},
   "outputs": [
    {
     "data": {
      "text/plain": [
       "{'settings_version': '0.0.5',\n",
       " 'datasets_dir': 'C:/Users/gustavonc/Downloads/treinar_yolov8-main/data',\n",
       " 'weights_dir': 'C:/Users/gustavonc/Downloads/treinar_yolov8-main/weights',\n",
       " 'runs_dir': 'C:/Users/gustavonc/Downloads/treinar_yolov8-main/runs',\n",
       " 'uuid': '1a981bb70d9fd6b9f625723f95ef13c6063ad44e5add3882380cc76720d6860a',\n",
       " 'sync': True,\n",
       " 'api_key': '',\n",
       " 'openai_api_key': '',\n",
       " 'clearml': True,\n",
       " 'comet': True,\n",
       " 'dvc': True,\n",
       " 'hub': True,\n",
       " 'mlflow': True,\n",
       " 'neptune': True,\n",
       " 'raytune': True,\n",
       " 'tensorboard': True,\n",
       " 'wandb': True,\n",
       " 'vscode_msg': True}"
      ]
     },
     "execution_count": 5,
     "metadata": {},
     "output_type": "execute_result"
    }
   ],
   "source": [
    "settings"
   ]
  },
  {
   "cell_type": "markdown",
   "id": "724580eb-40aa-45eb-8e1a-38a8eb64030e",
   "metadata": {},
   "source": [
    "## Treinamento\n",
    "\n",
    "Todos comandos e instruções: https://docs.ultralytics.com/modes/train/#arguments\n",
    "\n",
    "Augmentations disponíveis: https://docs.ultralytics.com/usage/cfg/#augmentation"
   ]
  },
  {
   "cell_type": "code",
   "execution_count": 6,
   "id": "18296cc0-15c6-478b-a9b5-b4d8764293b9",
   "metadata": {},
   "outputs": [],
   "source": [
    "model = YOLO('8n_colab_p2.pt')  # yolov8n_custom.yaml"
   ]
  },
  {
   "cell_type": "code",
   "execution_count": 7,
   "id": "003a8f7c-1674-4b01-9f16-e61b3d263de2",
   "metadata": {},
   "outputs": [
    {
     "name": "stdout",
     "output_type": "stream",
     "text": [
      "New https://pypi.org/project/ultralytics/8.2.94 available  Update with 'pip install -U ultralytics'\n",
      "Ultralytics YOLOv8.2.91  Python-3.12.5 torch-2.3.0+cpu CPU (AMD Ryzen 5 PRO 5650GE with Radeon Graphics)\n",
      "\u001b[34m\u001b[1mengine\\trainer: \u001b[0mtask=detect, mode=train, model=8n_colab_p2.pt, data=custom_dataset.yaml, epochs=30, time=None, patience=8, batch=-1, imgsz=640, save=True, save_period=-1, cache=False, device=None, workers=6, project=runs/detect, name=train2, exist_ok=False, pretrained=True, optimizer=auto, verbose=True, seed=0, deterministic=True, single_cls=True, rect=False, cos_lr=False, close_mosaic=10, resume=False, amp=True, fraction=1.0, profile=False, freeze=None, multi_scale=False, overlap_mask=True, mask_ratio=4, dropout=0.0, val=True, split=val, save_json=False, save_hybrid=False, conf=None, iou=0.7, max_det=300, half=False, dnn=False, plots=True, source=None, vid_stride=1, stream_buffer=False, visualize=False, augment=False, agnostic_nms=False, classes=None, retina_masks=False, embed=None, show=False, save_frames=False, save_txt=False, save_conf=False, save_crop=False, show_labels=True, show_conf=True, show_boxes=True, line_width=None, format=torchscript, keras=False, optimize=False, int8=False, dynamic=False, simplify=False, opset=None, workspace=4, nms=False, lr0=0.01, lrf=0.01, momentum=0.937, weight_decay=0.0005, warmup_epochs=3.0, warmup_momentum=0.8, warmup_bias_lr=0.1, box=7.5, cls=0.5, dfl=1.5, pose=12.0, kobj=1.0, label_smoothing=0.0, nbs=64, hsv_h=0.015, hsv_s=0.3, hsv_v=0.3, degrees=0.3, translate=0.1, scale=0.5, shear=0.0, perspective=0.0, flipud=0.0, fliplr=0.5, bgr=0.0, mosaic=1.0, mixup=0.0, copy_paste=0.0, auto_augment=randaugment, erasing=0.4, crop_fraction=1.0, cfg=None, tracker=botsort.yaml, save_dir=runs\\detect\\train2\n",
      "\n",
      "                   from  n    params  module                                       arguments                     \n",
      "  0                  -1  1       464  ultralytics.nn.modules.conv.Conv             [3, 16, 3, 2]                 \n",
      "  1                  -1  1      4672  ultralytics.nn.modules.conv.Conv             [16, 32, 3, 2]                \n",
      "  2                  -1  1      7360  ultralytics.nn.modules.block.C2f             [32, 32, 1, True]             \n",
      "  3                  -1  1     18560  ultralytics.nn.modules.conv.Conv             [32, 64, 3, 2]                \n",
      "  4                  -1  2     49664  ultralytics.nn.modules.block.C2f             [64, 64, 2, True]             \n",
      "  5                  -1  1     73984  ultralytics.nn.modules.conv.Conv             [64, 128, 3, 2]               \n",
      "  6                  -1  2    197632  ultralytics.nn.modules.block.C2f             [128, 128, 2, True]           \n",
      "  7                  -1  1    295424  ultralytics.nn.modules.conv.Conv             [128, 256, 3, 2]              \n",
      "  8                  -1  1    460288  ultralytics.nn.modules.block.C2f             [256, 256, 1, True]           \n",
      "  9                  -1  1    164608  ultralytics.nn.modules.block.SPPF            [256, 256, 5]                 \n",
      " 10                  -1  1         0  torch.nn.modules.upsampling.Upsample         [None, 2, 'nearest']          \n",
      " 11             [-1, 6]  1         0  ultralytics.nn.modules.conv.Concat           [1]                           \n",
      " 12                  -1  1    148224  ultralytics.nn.modules.block.C2f             [384, 128, 1]                 \n",
      " 13                  -1  1         0  torch.nn.modules.upsampling.Upsample         [None, 2, 'nearest']          \n",
      " 14             [-1, 4]  1         0  ultralytics.nn.modules.conv.Concat           [1]                           \n",
      " 15                  -1  1     37248  ultralytics.nn.modules.block.C2f             [192, 64, 1]                  \n",
      " 16                  -1  1     36992  ultralytics.nn.modules.conv.Conv             [64, 64, 3, 2]                \n",
      " 17            [-1, 12]  1         0  ultralytics.nn.modules.conv.Concat           [1]                           \n",
      " 18                  -1  1    123648  ultralytics.nn.modules.block.C2f             [192, 128, 1]                 \n",
      " 19                  -1  1    147712  ultralytics.nn.modules.conv.Conv             [128, 128, 3, 2]              \n",
      " 20             [-1, 9]  1         0  ultralytics.nn.modules.conv.Concat           [1]                           \n",
      " 21                  -1  1    493056  ultralytics.nn.modules.block.C2f             [384, 256, 1]                 \n",
      " 22        [15, 18, 21]  1    753262  ultralytics.nn.modules.head.Detect           [10, [64, 128, 256]]          \n",
      "Model summary: 225 layers, 3,012,798 parameters, 3,012,782 gradients, 8.2 GFLOPs\n",
      "\n",
      "Transferred 355/355 items from pretrained weights\n",
      "\u001b[34m\u001b[1mTensorBoard: \u001b[0mStart with 'tensorboard --logdir runs\\detect\\train2', view at http://localhost:6006/\n",
      "Freezing layer 'model.22.dfl.conv.weight'\n",
      "\u001b[34m\u001b[1mAutoBatch: \u001b[0mComputing optimal batch size for imgsz=640 at 60.0% CUDA memory utilization.\n",
      "\u001b[34m\u001b[1mAutoBatch: \u001b[0m  intended for CUDA devices, using default batch-size 16\n"
     ]
    },
    {
     "name": "stderr",
     "output_type": "stream",
     "text": [
      "\u001b[34m\u001b[1mtrain: \u001b[0mScanning C:\\Users\\gustavonc\\Downloads\\treinar_yolov8-main\\data\\box\\train\\labels... 203 images, 6 backgrounds, 0 corrupt: 100%|██████████| 203/203 [00:00<00:00, 1460.11it/s]"
     ]
    },
    {
     "name": "stdout",
     "output_type": "stream",
     "text": [
      "\u001b[34m\u001b[1mtrain: \u001b[0mNew cache created: C:\\Users\\gustavonc\\Downloads\\treinar_yolov8-main\\data\\box\\train\\labels.cache\n"
     ]
    },
    {
     "name": "stderr",
     "output_type": "stream",
     "text": [
      "\n",
      "\u001b[34m\u001b[1mval: \u001b[0mScanning C:\\Users\\gustavonc\\Downloads\\treinar_yolov8-main\\data\\box\\valid\\labels... 36 images, 0 backgrounds, 0 corrupt: 100%|██████████| 36/36 [00:00<00:00, 1530.69it/s]"
     ]
    },
    {
     "name": "stdout",
     "output_type": "stream",
     "text": [
      "\u001b[34m\u001b[1mval: \u001b[0mNew cache created: C:\\Users\\gustavonc\\Downloads\\treinar_yolov8-main\\data\\box\\valid\\labels.cache\n"
     ]
    },
    {
     "name": "stderr",
     "output_type": "stream",
     "text": [
      "\n"
     ]
    },
    {
     "name": "stdout",
     "output_type": "stream",
     "text": [
      "Plotting labels to runs\\detect\\train2\\labels.jpg... \n",
      "\u001b[34m\u001b[1moptimizer:\u001b[0m 'optimizer=auto' found, ignoring 'lr0=0.01' and 'momentum=0.937' and determining best 'optimizer', 'lr0' and 'momentum' automatically... \n",
      "\u001b[34m\u001b[1moptimizer:\u001b[0m AdamW(lr=0.000714, momentum=0.9) with parameter groups 57 weight(decay=0.0), 64 weight(decay=0.0005), 63 bias(decay=0.0)\n",
      "\u001b[34m\u001b[1mTensorBoard: \u001b[0mmodel graph visualization added \n",
      "Image sizes 640 train, 640 val\n",
      "Using 0 dataloader workers\n",
      "Logging results to \u001b[1mruns\\detect\\train2\u001b[0m\n",
      "Starting training for 30 epochs...\n",
      "\n",
      "      Epoch    GPU_mem   box_loss   cls_loss   dfl_loss  Instances       Size\n"
     ]
    },
    {
     "name": "stderr",
     "output_type": "stream",
     "text": [
      "       1/30         0G     0.5821     0.8864     0.8901         32        640: 100%|██████████| 13/13 [01:24<00:00,  6.51s/it]\n",
      "                 Class     Images  Instances      Box(P          R      mAP50  mAP50-95): 100%|██████████| 2/2 [00:05<00:00,  2.86s/it]"
     ]
    },
    {
     "name": "stdout",
     "output_type": "stream",
     "text": [
      "                   all         36         63      0.919      0.968      0.969      0.877\n"
     ]
    },
    {
     "name": "stderr",
     "output_type": "stream",
     "text": [
      "\n"
     ]
    },
    {
     "name": "stdout",
     "output_type": "stream",
     "text": [
      "\n",
      "      Epoch    GPU_mem   box_loss   cls_loss   dfl_loss  Instances       Size\n"
     ]
    },
    {
     "name": "stderr",
     "output_type": "stream",
     "text": [
      "       2/30         0G     0.5742     0.8679     0.8541         36        640: 100%|██████████| 13/13 [01:18<00:00,  6.05s/it]\n",
      "                 Class     Images  Instances      Box(P          R      mAP50  mAP50-95): 100%|██████████| 2/2 [00:05<00:00,  2.71s/it]"
     ]
    },
    {
     "name": "stdout",
     "output_type": "stream",
     "text": [
      "                   all         36         63      0.968      0.947      0.985      0.868\n"
     ]
    },
    {
     "name": "stderr",
     "output_type": "stream",
     "text": [
      "\n"
     ]
    },
    {
     "name": "stdout",
     "output_type": "stream",
     "text": [
      "\n",
      "      Epoch    GPU_mem   box_loss   cls_loss   dfl_loss  Instances       Size\n"
     ]
    },
    {
     "name": "stderr",
     "output_type": "stream",
     "text": [
      "       3/30         0G      0.548     0.7803     0.8521         42        640: 100%|██████████| 13/13 [01:16<00:00,  5.88s/it]\n",
      "                 Class     Images  Instances      Box(P          R      mAP50  mAP50-95): 100%|██████████| 2/2 [00:05<00:00,  2.71s/it]"
     ]
    },
    {
     "name": "stdout",
     "output_type": "stream",
     "text": [
      "                   all         36         63      0.962      0.984      0.989      0.879\n"
     ]
    },
    {
     "name": "stderr",
     "output_type": "stream",
     "text": [
      "\n"
     ]
    },
    {
     "name": "stdout",
     "output_type": "stream",
     "text": [
      "\n",
      "      Epoch    GPU_mem   box_loss   cls_loss   dfl_loss  Instances       Size\n"
     ]
    },
    {
     "name": "stderr",
     "output_type": "stream",
     "text": [
      "       4/30         0G     0.5547     0.7607     0.8621         33        640: 100%|██████████| 13/13 [01:16<00:00,  5.87s/it]\n",
      "                 Class     Images  Instances      Box(P          R      mAP50  mAP50-95): 100%|██████████| 2/2 [00:05<00:00,  2.59s/it]"
     ]
    },
    {
     "name": "stdout",
     "output_type": "stream",
     "text": [
      "                   all         36         63      0.924      0.984      0.987      0.888\n"
     ]
    },
    {
     "name": "stderr",
     "output_type": "stream",
     "text": [
      "\n"
     ]
    },
    {
     "name": "stdout",
     "output_type": "stream",
     "text": [
      "\n",
      "      Epoch    GPU_mem   box_loss   cls_loss   dfl_loss  Instances       Size\n"
     ]
    },
    {
     "name": "stderr",
     "output_type": "stream",
     "text": [
      "       5/30         0G     0.5593     0.7501      0.843         26        640: 100%|██████████| 13/13 [01:15<00:00,  5.78s/it]\n",
      "                 Class     Images  Instances      Box(P          R      mAP50  mAP50-95): 100%|██████████| 2/2 [00:05<00:00,  2.88s/it]"
     ]
    },
    {
     "name": "stdout",
     "output_type": "stream",
     "text": [
      "                   all         36         63      0.981      0.984      0.994       0.87\n"
     ]
    },
    {
     "name": "stderr",
     "output_type": "stream",
     "text": [
      "\n"
     ]
    },
    {
     "name": "stdout",
     "output_type": "stream",
     "text": [
      "\n",
      "      Epoch    GPU_mem   box_loss   cls_loss   dfl_loss  Instances       Size\n"
     ]
    },
    {
     "name": "stderr",
     "output_type": "stream",
     "text": [
      "       6/30         0G     0.5123     0.7251     0.8372         22        640: 100%|██████████| 13/13 [01:15<00:00,  5.79s/it]\n",
      "                 Class     Images  Instances      Box(P          R      mAP50  mAP50-95): 100%|██████████| 2/2 [00:05<00:00,  2.64s/it]"
     ]
    },
    {
     "name": "stdout",
     "output_type": "stream",
     "text": [
      "                   all         36         63      0.984      0.981      0.985      0.878\n"
     ]
    },
    {
     "name": "stderr",
     "output_type": "stream",
     "text": [
      "\n"
     ]
    },
    {
     "name": "stdout",
     "output_type": "stream",
     "text": [
      "\n",
      "      Epoch    GPU_mem   box_loss   cls_loss   dfl_loss  Instances       Size\n"
     ]
    },
    {
     "name": "stderr",
     "output_type": "stream",
     "text": [
      "       7/30         0G     0.5127     0.6738     0.8391         35        640: 100%|██████████| 13/13 [01:14<00:00,  5.76s/it]\n",
      "                 Class     Images  Instances      Box(P          R      mAP50  mAP50-95): 100%|██████████| 2/2 [00:05<00:00,  2.58s/it]"
     ]
    },
    {
     "name": "stdout",
     "output_type": "stream",
     "text": [
      "                   all         36         63      0.984      0.983      0.985      0.873\n"
     ]
    },
    {
     "name": "stderr",
     "output_type": "stream",
     "text": [
      "\n"
     ]
    },
    {
     "name": "stdout",
     "output_type": "stream",
     "text": [
      "\n",
      "      Epoch    GPU_mem   box_loss   cls_loss   dfl_loss  Instances       Size\n"
     ]
    },
    {
     "name": "stderr",
     "output_type": "stream",
     "text": [
      "       8/30         0G     0.5341     0.7503     0.8412         36        640: 100%|██████████| 13/13 [01:15<00:00,  5.81s/it]\n",
      "                 Class     Images  Instances      Box(P          R      mAP50  mAP50-95): 100%|██████████| 2/2 [00:05<00:00,  2.64s/it]"
     ]
    },
    {
     "name": "stdout",
     "output_type": "stream",
     "text": [
      "                   all         36         63      0.992      0.952      0.984      0.877\n"
     ]
    },
    {
     "name": "stderr",
     "output_type": "stream",
     "text": [
      "\n"
     ]
    },
    {
     "name": "stdout",
     "output_type": "stream",
     "text": [
      "\n",
      "      Epoch    GPU_mem   box_loss   cls_loss   dfl_loss  Instances       Size\n"
     ]
    },
    {
     "name": "stderr",
     "output_type": "stream",
     "text": [
      "       9/30         0G     0.4931      0.698       0.84         26        640: 100%|██████████| 13/13 [01:15<00:00,  5.80s/it]\n",
      "                 Class     Images  Instances      Box(P          R      mAP50  mAP50-95): 100%|██████████| 2/2 [00:05<00:00,  2.59s/it]"
     ]
    },
    {
     "name": "stdout",
     "output_type": "stream",
     "text": [
      "                   all         36         63      0.965      0.984      0.992      0.877\n"
     ]
    },
    {
     "name": "stderr",
     "output_type": "stream",
     "text": [
      "\n"
     ]
    },
    {
     "name": "stdout",
     "output_type": "stream",
     "text": [
      "\n",
      "      Epoch    GPU_mem   box_loss   cls_loss   dfl_loss  Instances       Size\n"
     ]
    },
    {
     "name": "stderr",
     "output_type": "stream",
     "text": [
      "      10/30         0G     0.5235     0.6814     0.8382         42        640: 100%|██████████| 13/13 [01:15<00:00,  5.82s/it]\n",
      "                 Class     Images  Instances      Box(P          R      mAP50  mAP50-95): 100%|██████████| 2/2 [00:05<00:00,  2.61s/it]"
     ]
    },
    {
     "name": "stdout",
     "output_type": "stream",
     "text": [
      "                   all         36         63      0.981      0.968      0.991      0.866\n"
     ]
    },
    {
     "name": "stderr",
     "output_type": "stream",
     "text": [
      "\n"
     ]
    },
    {
     "name": "stdout",
     "output_type": "stream",
     "text": [
      "\n",
      "      Epoch    GPU_mem   box_loss   cls_loss   dfl_loss  Instances       Size\n"
     ]
    },
    {
     "name": "stderr",
     "output_type": "stream",
     "text": [
      "      11/30         0G      0.466      0.612     0.8319         29        640: 100%|██████████| 13/13 [01:16<00:00,  5.87s/it]\n",
      "                 Class     Images  Instances      Box(P          R      mAP50  mAP50-95): 100%|██████████| 2/2 [00:05<00:00,  2.80s/it]"
     ]
    },
    {
     "name": "stdout",
     "output_type": "stream",
     "text": [
      "                   all         36         63      0.966      0.968      0.989      0.858\n"
     ]
    },
    {
     "name": "stderr",
     "output_type": "stream",
     "text": [
      "\n"
     ]
    },
    {
     "name": "stdout",
     "output_type": "stream",
     "text": [
      "\n",
      "      Epoch    GPU_mem   box_loss   cls_loss   dfl_loss  Instances       Size\n"
     ]
    },
    {
     "name": "stderr",
     "output_type": "stream",
     "text": [
      "      12/30         0G     0.4791     0.6248     0.8207         45        640: 100%|██████████| 13/13 [01:15<00:00,  5.80s/it]\n",
      "                 Class     Images  Instances      Box(P          R      mAP50  mAP50-95): 100%|██████████| 2/2 [00:05<00:00,  2.60s/it]"
     ]
    },
    {
     "name": "stdout",
     "output_type": "stream",
     "text": [
      "                   all         36         63      0.969       0.98       0.99      0.875\n",
      "\u001b[34m\u001b[1mEarlyStopping: \u001b[0mTraining stopped early as no improvement observed in last 8 epochs. Best results observed at epoch 4, best model saved as best.pt.\n",
      "To update EarlyStopping(patience=8) pass a new patience value, i.e. `patience=300` or use `patience=0` to disable EarlyStopping.\n"
     ]
    },
    {
     "name": "stderr",
     "output_type": "stream",
     "text": [
      "\n"
     ]
    },
    {
     "name": "stdout",
     "output_type": "stream",
     "text": [
      "\n",
      "12 epochs completed in 0.276 hours.\n",
      "Optimizer stripped from runs\\detect\\train2\\weights\\last.pt, 6.2MB\n",
      "Optimizer stripped from runs\\detect\\train2\\weights\\best.pt, 6.2MB\n",
      "\n",
      "Validating runs\\detect\\train2\\weights\\best.pt...\n",
      "Ultralytics YOLOv8.2.91  Python-3.12.5 torch-2.3.0+cpu CPU (AMD Ryzen 5 PRO 5650GE with Radeon Graphics)\n",
      "Model summary (fused): 168 layers, 3,007,598 parameters, 0 gradients, 8.1 GFLOPs\n"
     ]
    },
    {
     "name": "stderr",
     "output_type": "stream",
     "text": [
      "                 Class     Images  Instances      Box(P          R      mAP50  mAP50-95): 100%|██████████| 2/2 [00:04<00:00,  2.17s/it]\n"
     ]
    },
    {
     "name": "stdout",
     "output_type": "stream",
     "text": [
      "                   all         36         63      0.923      0.984      0.987      0.888\n",
      "        Mont_Need_Tamp         36         63      0.923      0.984      0.987      0.888\n",
      "Speed: 4.6ms preprocess, 104.5ms inference, 0.0ms loss, 0.6ms postprocess per image\n",
      "Results saved to \u001b[1mruns\\detect\\train2\u001b[0m\n"
     ]
    },
    {
     "data": {
      "text/plain": [
       "ultralytics.utils.metrics.DetMetrics object with attributes:\n",
       "\n",
       "ap_class_index: array([0])\n",
       "box: ultralytics.utils.metrics.Metric object\n",
       "confusion_matrix: <ultralytics.utils.metrics.ConfusionMatrix object at 0x000001D236CFFB00>\n",
       "curves: ['Precision-Recall(B)', 'F1-Confidence(B)', 'Precision-Confidence(B)', 'Recall-Confidence(B)']\n",
       "curves_results: [[array([          0,    0.001001,    0.002002,    0.003003,    0.004004,    0.005005,    0.006006,    0.007007,    0.008008,    0.009009,     0.01001,    0.011011,    0.012012,    0.013013,    0.014014,    0.015015,    0.016016,    0.017017,    0.018018,    0.019019,     0.02002,    0.021021,    0.022022,    0.023023,\n",
       "          0.024024,    0.025025,    0.026026,    0.027027,    0.028028,    0.029029,     0.03003,    0.031031,    0.032032,    0.033033,    0.034034,    0.035035,    0.036036,    0.037037,    0.038038,    0.039039,     0.04004,    0.041041,    0.042042,    0.043043,    0.044044,    0.045045,    0.046046,    0.047047,\n",
       "          0.048048,    0.049049,     0.05005,    0.051051,    0.052052,    0.053053,    0.054054,    0.055055,    0.056056,    0.057057,    0.058058,    0.059059,     0.06006,    0.061061,    0.062062,    0.063063,    0.064064,    0.065065,    0.066066,    0.067067,    0.068068,    0.069069,     0.07007,    0.071071,\n",
       "          0.072072,    0.073073,    0.074074,    0.075075,    0.076076,    0.077077,    0.078078,    0.079079,     0.08008,    0.081081,    0.082082,    0.083083,    0.084084,    0.085085,    0.086086,    0.087087,    0.088088,    0.089089,     0.09009,    0.091091,    0.092092,    0.093093,    0.094094,    0.095095,\n",
       "          0.096096,    0.097097,    0.098098,    0.099099,      0.1001,      0.1011,      0.1021,      0.1031,      0.1041,     0.10511,     0.10611,     0.10711,     0.10811,     0.10911,     0.11011,     0.11111,     0.11211,     0.11311,     0.11411,     0.11512,     0.11612,     0.11712,     0.11812,     0.11912,\n",
       "           0.12012,     0.12112,     0.12212,     0.12312,     0.12412,     0.12513,     0.12613,     0.12713,     0.12813,     0.12913,     0.13013,     0.13113,     0.13213,     0.13313,     0.13413,     0.13514,     0.13614,     0.13714,     0.13814,     0.13914,     0.14014,     0.14114,     0.14214,     0.14314,\n",
       "           0.14414,     0.14515,     0.14615,     0.14715,     0.14815,     0.14915,     0.15015,     0.15115,     0.15215,     0.15315,     0.15415,     0.15516,     0.15616,     0.15716,     0.15816,     0.15916,     0.16016,     0.16116,     0.16216,     0.16316,     0.16416,     0.16517,     0.16617,     0.16717,\n",
       "           0.16817,     0.16917,     0.17017,     0.17117,     0.17217,     0.17317,     0.17417,     0.17518,     0.17618,     0.17718,     0.17818,     0.17918,     0.18018,     0.18118,     0.18218,     0.18318,     0.18418,     0.18519,     0.18619,     0.18719,     0.18819,     0.18919,     0.19019,     0.19119,\n",
       "           0.19219,     0.19319,     0.19419,      0.1952,      0.1962,      0.1972,      0.1982,      0.1992,      0.2002,      0.2012,      0.2022,      0.2032,      0.2042,     0.20521,     0.20621,     0.20721,     0.20821,     0.20921,     0.21021,     0.21121,     0.21221,     0.21321,     0.21421,     0.21522,\n",
       "           0.21622,     0.21722,     0.21822,     0.21922,     0.22022,     0.22122,     0.22222,     0.22322,     0.22422,     0.22523,     0.22623,     0.22723,     0.22823,     0.22923,     0.23023,     0.23123,     0.23223,     0.23323,     0.23423,     0.23524,     0.23624,     0.23724,     0.23824,     0.23924,\n",
       "           0.24024,     0.24124,     0.24224,     0.24324,     0.24424,     0.24525,     0.24625,     0.24725,     0.24825,     0.24925,     0.25025,     0.25125,     0.25225,     0.25325,     0.25425,     0.25526,     0.25626,     0.25726,     0.25826,     0.25926,     0.26026,     0.26126,     0.26226,     0.26326,\n",
       "           0.26426,     0.26527,     0.26627,     0.26727,     0.26827,     0.26927,     0.27027,     0.27127,     0.27227,     0.27327,     0.27427,     0.27528,     0.27628,     0.27728,     0.27828,     0.27928,     0.28028,     0.28128,     0.28228,     0.28328,     0.28428,     0.28529,     0.28629,     0.28729,\n",
       "           0.28829,     0.28929,     0.29029,     0.29129,     0.29229,     0.29329,     0.29429,      0.2953,      0.2963,      0.2973,      0.2983,      0.2993,      0.3003,      0.3013,      0.3023,      0.3033,      0.3043,     0.30531,     0.30631,     0.30731,     0.30831,     0.30931,     0.31031,     0.31131,\n",
       "           0.31231,     0.31331,     0.31431,     0.31532,     0.31632,     0.31732,     0.31832,     0.31932,     0.32032,     0.32132,     0.32232,     0.32332,     0.32432,     0.32533,     0.32633,     0.32733,     0.32833,     0.32933,     0.33033,     0.33133,     0.33233,     0.33333,     0.33433,     0.33534,\n",
       "           0.33634,     0.33734,     0.33834,     0.33934,     0.34034,     0.34134,     0.34234,     0.34334,     0.34434,     0.34535,     0.34635,     0.34735,     0.34835,     0.34935,     0.35035,     0.35135,     0.35235,     0.35335,     0.35435,     0.35536,     0.35636,     0.35736,     0.35836,     0.35936,\n",
       "           0.36036,     0.36136,     0.36236,     0.36336,     0.36436,     0.36537,     0.36637,     0.36737,     0.36837,     0.36937,     0.37037,     0.37137,     0.37237,     0.37337,     0.37437,     0.37538,     0.37638,     0.37738,     0.37838,     0.37938,     0.38038,     0.38138,     0.38238,     0.38338,\n",
       "           0.38438,     0.38539,     0.38639,     0.38739,     0.38839,     0.38939,     0.39039,     0.39139,     0.39239,     0.39339,     0.39439,      0.3954,      0.3964,      0.3974,      0.3984,      0.3994,      0.4004,      0.4014,      0.4024,      0.4034,      0.4044,     0.40541,     0.40641,     0.40741,\n",
       "           0.40841,     0.40941,     0.41041,     0.41141,     0.41241,     0.41341,     0.41441,     0.41542,     0.41642,     0.41742,     0.41842,     0.41942,     0.42042,     0.42142,     0.42242,     0.42342,     0.42442,     0.42543,     0.42643,     0.42743,     0.42843,     0.42943,     0.43043,     0.43143,\n",
       "           0.43243,     0.43343,     0.43443,     0.43544,     0.43644,     0.43744,     0.43844,     0.43944,     0.44044,     0.44144,     0.44244,     0.44344,     0.44444,     0.44545,     0.44645,     0.44745,     0.44845,     0.44945,     0.45045,     0.45145,     0.45245,     0.45345,     0.45445,     0.45546,\n",
       "           0.45646,     0.45746,     0.45846,     0.45946,     0.46046,     0.46146,     0.46246,     0.46346,     0.46446,     0.46547,     0.46647,     0.46747,     0.46847,     0.46947,     0.47047,     0.47147,     0.47247,     0.47347,     0.47447,     0.47548,     0.47648,     0.47748,     0.47848,     0.47948,\n",
       "           0.48048,     0.48148,     0.48248,     0.48348,     0.48448,     0.48549,     0.48649,     0.48749,     0.48849,     0.48949,     0.49049,     0.49149,     0.49249,     0.49349,     0.49449,      0.4955,      0.4965,      0.4975,      0.4985,      0.4995,      0.5005,      0.5015,      0.5025,      0.5035,\n",
       "            0.5045,     0.50551,     0.50651,     0.50751,     0.50851,     0.50951,     0.51051,     0.51151,     0.51251,     0.51351,     0.51451,     0.51552,     0.51652,     0.51752,     0.51852,     0.51952,     0.52052,     0.52152,     0.52252,     0.52352,     0.52452,     0.52553,     0.52653,     0.52753,\n",
       "           0.52853,     0.52953,     0.53053,     0.53153,     0.53253,     0.53353,     0.53453,     0.53554,     0.53654,     0.53754,     0.53854,     0.53954,     0.54054,     0.54154,     0.54254,     0.54354,     0.54454,     0.54555,     0.54655,     0.54755,     0.54855,     0.54955,     0.55055,     0.55155,\n",
       "           0.55255,     0.55355,     0.55455,     0.55556,     0.55656,     0.55756,     0.55856,     0.55956,     0.56056,     0.56156,     0.56256,     0.56356,     0.56456,     0.56557,     0.56657,     0.56757,     0.56857,     0.56957,     0.57057,     0.57157,     0.57257,     0.57357,     0.57457,     0.57558,\n",
       "           0.57658,     0.57758,     0.57858,     0.57958,     0.58058,     0.58158,     0.58258,     0.58358,     0.58458,     0.58559,     0.58659,     0.58759,     0.58859,     0.58959,     0.59059,     0.59159,     0.59259,     0.59359,     0.59459,      0.5956,      0.5966,      0.5976,      0.5986,      0.5996,\n",
       "            0.6006,      0.6016,      0.6026,      0.6036,      0.6046,     0.60561,     0.60661,     0.60761,     0.60861,     0.60961,     0.61061,     0.61161,     0.61261,     0.61361,     0.61461,     0.61562,     0.61662,     0.61762,     0.61862,     0.61962,     0.62062,     0.62162,     0.62262,     0.62362,\n",
       "           0.62462,     0.62563,     0.62663,     0.62763,     0.62863,     0.62963,     0.63063,     0.63163,     0.63263,     0.63363,     0.63463,     0.63564,     0.63664,     0.63764,     0.63864,     0.63964,     0.64064,     0.64164,     0.64264,     0.64364,     0.64464,     0.64565,     0.64665,     0.64765,\n",
       "           0.64865,     0.64965,     0.65065,     0.65165,     0.65265,     0.65365,     0.65465,     0.65566,     0.65666,     0.65766,     0.65866,     0.65966,     0.66066,     0.66166,     0.66266,     0.66366,     0.66466,     0.66567,     0.66667,     0.66767,     0.66867,     0.66967,     0.67067,     0.67167,\n",
       "           0.67267,     0.67367,     0.67467,     0.67568,     0.67668,     0.67768,     0.67868,     0.67968,     0.68068,     0.68168,     0.68268,     0.68368,     0.68468,     0.68569,     0.68669,     0.68769,     0.68869,     0.68969,     0.69069,     0.69169,     0.69269,     0.69369,     0.69469,      0.6957,\n",
       "            0.6967,      0.6977,      0.6987,      0.6997,      0.7007,      0.7017,      0.7027,      0.7037,      0.7047,     0.70571,     0.70671,     0.70771,     0.70871,     0.70971,     0.71071,     0.71171,     0.71271,     0.71371,     0.71471,     0.71572,     0.71672,     0.71772,     0.71872,     0.71972,\n",
       "           0.72072,     0.72172,     0.72272,     0.72372,     0.72472,     0.72573,     0.72673,     0.72773,     0.72873,     0.72973,     0.73073,     0.73173,     0.73273,     0.73373,     0.73473,     0.73574,     0.73674,     0.73774,     0.73874,     0.73974,     0.74074,     0.74174,     0.74274,     0.74374,\n",
       "           0.74474,     0.74575,     0.74675,     0.74775,     0.74875,     0.74975,     0.75075,     0.75175,     0.75275,     0.75375,     0.75475,     0.75576,     0.75676,     0.75776,     0.75876,     0.75976,     0.76076,     0.76176,     0.76276,     0.76376,     0.76476,     0.76577,     0.76677,     0.76777,\n",
       "           0.76877,     0.76977,     0.77077,     0.77177,     0.77277,     0.77377,     0.77477,     0.77578,     0.77678,     0.77778,     0.77878,     0.77978,     0.78078,     0.78178,     0.78278,     0.78378,     0.78478,     0.78579,     0.78679,     0.78779,     0.78879,     0.78979,     0.79079,     0.79179,\n",
       "           0.79279,     0.79379,     0.79479,      0.7958,      0.7968,      0.7978,      0.7988,      0.7998,      0.8008,      0.8018,      0.8028,      0.8038,      0.8048,     0.80581,     0.80681,     0.80781,     0.80881,     0.80981,     0.81081,     0.81181,     0.81281,     0.81381,     0.81481,     0.81582,\n",
       "           0.81682,     0.81782,     0.81882,     0.81982,     0.82082,     0.82182,     0.82282,     0.82382,     0.82482,     0.82583,     0.82683,     0.82783,     0.82883,     0.82983,     0.83083,     0.83183,     0.83283,     0.83383,     0.83483,     0.83584,     0.83684,     0.83784,     0.83884,     0.83984,\n",
       "           0.84084,     0.84184,     0.84284,     0.84384,     0.84484,     0.84585,     0.84685,     0.84785,     0.84885,     0.84985,     0.85085,     0.85185,     0.85285,     0.85385,     0.85485,     0.85586,     0.85686,     0.85786,     0.85886,     0.85986,     0.86086,     0.86186,     0.86286,     0.86386,\n",
       "           0.86486,     0.86587,     0.86687,     0.86787,     0.86887,     0.86987,     0.87087,     0.87187,     0.87287,     0.87387,     0.87487,     0.87588,     0.87688,     0.87788,     0.87888,     0.87988,     0.88088,     0.88188,     0.88288,     0.88388,     0.88488,     0.88589,     0.88689,     0.88789,\n",
       "           0.88889,     0.88989,     0.89089,     0.89189,     0.89289,     0.89389,     0.89489,      0.8959,      0.8969,      0.8979,      0.8989,      0.8999,      0.9009,      0.9019,      0.9029,      0.9039,      0.9049,     0.90591,     0.90691,     0.90791,     0.90891,     0.90991,     0.91091,     0.91191,\n",
       "           0.91291,     0.91391,     0.91491,     0.91592,     0.91692,     0.91792,     0.91892,     0.91992,     0.92092,     0.92192,     0.92292,     0.92392,     0.92492,     0.92593,     0.92693,     0.92793,     0.92893,     0.92993,     0.93093,     0.93193,     0.93293,     0.93393,     0.93493,     0.93594,\n",
       "           0.93694,     0.93794,     0.93894,     0.93994,     0.94094,     0.94194,     0.94294,     0.94394,     0.94494,     0.94595,     0.94695,     0.94795,     0.94895,     0.94995,     0.95095,     0.95195,     0.95295,     0.95395,     0.95495,     0.95596,     0.95696,     0.95796,     0.95896,     0.95996,\n",
       "           0.96096,     0.96196,     0.96296,     0.96396,     0.96496,     0.96597,     0.96697,     0.96797,     0.96897,     0.96997,     0.97097,     0.97197,     0.97297,     0.97397,     0.97497,     0.97598,     0.97698,     0.97798,     0.97898,     0.97998,     0.98098,     0.98198,     0.98298,     0.98398,\n",
       "           0.98498,     0.98599,     0.98699,     0.98799,     0.98899,     0.98999,     0.99099,     0.99199,     0.99299,     0.99399,     0.99499,       0.996,       0.997,       0.998,       0.999,           1]), array([[          1,           1,           1,           1,           1,           1,           1,           1,           1,           1,           1,           1,           1,           1,           1,           1,           1,           1,           1,           1,           1,           1,           1,\n",
       "                  1,           1,           1,           1,           1,           1,           1,           1,           1,           1,           1,           1,           1,           1,           1,           1,           1,           1,           1,           1,           1,           1,           1,\n",
       "                  1,           1,           1,           1,           1,           1,           1,           1,           1,           1,           1,           1,           1,           1,           1,           1,           1,           1,           1,           1,           1,           1,           1,\n",
       "                  1,           1,           1,           1,           1,           1,           1,           1,           1,           1,           1,           1,           1,           1,           1,           1,           1,           1,           1,           1,           1,           1,           1,\n",
       "                  1,           1,           1,           1,           1,           1,           1,           1,           1,           1,           1,           1,           1,           1,           1,           1,           1,           1,           1,           1,           1,           1,           1,\n",
       "                  1,           1,           1,           1,           1,           1,           1,           1,           1,           1,           1,           1,           1,           1,           1,           1,           1,           1,           1,           1,           1,           1,           1,\n",
       "                  1,           1,           1,           1,           1,           1,           1,           1,           1,           1,           1,           1,           1,           1,           1,           1,           1,           1,           1,           1,           1,           1,           1,\n",
       "                  1,           1,           1,           1,           1,           1,           1,           1,           1,           1,           1,           1,           1,           1,           1,           1,           1,           1,           1,           1,           1,           1,           1,\n",
       "                  1,           1,           1,           1,           1,           1,           1,           1,           1,           1,           1,           1,           1,           1,           1,           1,           1,           1,           1,           1,           1,           1,           1,\n",
       "                  1,           1,           1,           1,           1,           1,           1,           1,           1,           1,           1,           1,           1,           1,           1,           1,           1,           1,           1,           1,           1,           1,           1,\n",
       "                  1,           1,           1,           1,           1,           1,           1,           1,           1,           1,           1,           1,           1,           1,           1,           1,           1,           1,           1,           1,           1,           1,           1,\n",
       "                  1,           1,           1,           1,           1,           1,           1,           1,           1,           1,           1,           1,           1,           1,           1,           1,           1,           1,           1,           1,           1,           1,           1,\n",
       "                  1,           1,           1,           1,           1,           1,           1,           1,           1,           1,           1,           1,           1,           1,           1,           1,           1,           1,           1,           1,           1,           1,           1,\n",
       "                  1,           1,           1,           1,           1,           1,           1,           1,           1,           1,           1,           1,           1,           1,           1,           1,           1,           1,           1,           1,           1,           1,           1,\n",
       "                  1,           1,           1,           1,           1,           1,           1,           1,           1,           1,           1,           1,           1,           1,           1,           1,           1,           1,           1,           1,           1,           1,           1,\n",
       "                  1,           1,           1,           1,           1,           1,           1,           1,           1,           1,           1,           1,           1,           1,           1,           1,           1,           1,           1,           1,           1,           1,           1,\n",
       "                  1,           1,           1,           1,           1,           1,           1,           1,           1,           1,           1,           1,           1,           1,           1,           1,           1,           1,           1,           1,           1,           1,           1,\n",
       "                  1,           1,           1,           1,           1,           1,           1,           1,           1,           1,           1,           1,           1,           1,           1,           1,           1,           1,           1,           1,           1,           1,           1,\n",
       "                  1,           1,           1,           1,           1,           1,           1,           1,           1,           1,           1,           1,           1,           1,           1,           1,           1,           1,           1,           1,           1,           1,           1,\n",
       "                  1,           1,           1,           1,           1,           1,           1,           1,           1,           1,           1,           1,           1,           1,           1,           1,           1,           1,           1,           1,           1,           1,           1,\n",
       "                  1,           1,           1,           1,           1,           1,           1,           1,           1,           1,           1,           1,           1,           1,           1,           1,           1,           1,           1,           1,           1,           1,           1,\n",
       "                  1,           1,           1,           1,           1,           1,           1,           1,           1,           1,           1,           1,           1,           1,           1,           1,           1,           1,           1,           1,           1,           1,           1,\n",
       "                  1,           1,           1,           1,           1,           1,           1,           1,           1,           1,           1,           1,           1,           1,           1,           1,           1,           1,           1,           1,           1,           1,           1,\n",
       "                  1,           1,           1,           1,           1,           1,           1,           1,           1,           1,           1,           1,           1,           1,           1,           1,           1,           1,           1,           1,           1,           1,           1,\n",
       "                  1,           1,           1,           1,           1,           1,           1,           1,           1,           1,           1,           1,           1,           1,           1,           1,           1,           1,           1,           1,           1,           1,           1,\n",
       "                  1,           1,           1,           1,           1,           1,           1,           1,           1,           1,           1,           1,           1,           1,           1,           1,           1,           1,           1,           1,           1,           1,           1,\n",
       "                  1,           1,           1,           1,           1,           1,           1,           1,           1,           1,           1,           1,           1,           1,           1,           1,           1,           1,           1,           1,           1,           1,           1,\n",
       "                  1,           1,           1,           1,           1,           1,           1,           1,           1,           1,           1,           1,           1,           1,           1,           1,           1,           1,           1,           1,           1,           1,           1,\n",
       "                  1,           1,           1,           1,           1,           1,           1,           1,           1,           1,           1,           1,           1,           1,           1,           1,           1,           1,           1,           1,           1,           1,           1,\n",
       "                  1,           1,           1,           1,           1,           1,           1,           1,           1,           1,           1,           1,           1,           1,           1,           1,           1,           1,           1,           1,           1,           1,           1,\n",
       "                  1,           1,           1,           1,           1,           1,           1,           1,           1,           1,           1,           1,           1,           1,           1,           1,           1,           1,           1,           1,           1,           1,           1,\n",
       "                  1,           1,           1,           1,           1,           1,           1,           1,           1,           1,           1,           1,           1,           1,           1,           1,           1,           1,           1,           1,           1,           1,           1,\n",
       "                  1,           1,           1,           1,           1,           1,           1,           1,           1,           1,           1,           1,           1,           1,           1,           1,           1,           1,           1,           1,           1,           1,           1,\n",
       "                  1,           1,           1,           1,           1,           1,           1,           1,           1,           1,           1,           1,           1,           1,           1,           1,           1,           1,           1,           1,           1,           1,           1,\n",
       "                  1,           1,           1,           1,           1,           1,           1,           1,           1,           1,           1,           1,           1,           1,           1,           1,           1,           1,           1,           1,           1,           1,           1,\n",
       "                  1,           1,           1,           1,           1,           1,           1,           1,           1,           1,           1,           1,           1,           1,           1,           1,           1,           1,           1,           1,           1,           1,           1,\n",
       "                  1,           1,           1,           1,           1,           1,           1,           1,           1,           1,           1,           1,           1,           1,           1,           1,           1,           1,           1,           1,           1,           1,           1,\n",
       "                  1,           1,           1,           1,           1,           1,           1,           1,           1,           1,           1,           1,           1,           1,           1,           1,           1,           1,           1,           1,           1,           1,           1,\n",
       "                  1,           1,           1,           1,           1,           1,           1,           1,           1,           1,           1,           1,           1,           1,           1,           1,           1,           1,           1,           1,           1,           1,           1,\n",
       "                  1,           1,           1,           1,           1,           1,           1,     0.96667,     0.96667,     0.96667,     0.96667,     0.96667,     0.96667,     0.96667,     0.96667,     0.96667,     0.96667,     0.96667,     0.96667,     0.96667,     0.96667,     0.96667,     0.96667,\n",
       "            0.92537,     0.92537,     0.92537,     0.92537,     0.92537,     0.92537,     0.92537,     0.92537,     0.92537,     0.92537,     0.92537,     0.92537,     0.92537,     0.92537,     0.92537,     0.92537,     0.92537,     0.92537,     0.92537,     0.92537,     0.92537,     0.92537,     0.92537,\n",
       "            0.92537,     0.92537,     0.92537,     0.92537,     0.92537,     0.92537,     0.92537,     0.92537,     0.92537,     0.92537,     0.92537,     0.92537,     0.92537,     0.92537,     0.92537,     0.92537,     0.92537,     0.92537,     0.92537,     0.92537,     0.92537,     0.92537,     0.92537,\n",
       "            0.92537,     0.92537,     0.92537,     0.92537,     0.92537,     0.92537,     0.92537,     0.92537,     0.92537,     0.92537,     0.92537,     0.92537,     0.92537,     0.92537,     0.92537,     0.92537,     0.92537,     0.92537,     0.74118,     0.74118,     0.74118,     0.74118,     0.74118,\n",
       "            0.74118,     0.74118,     0.74118,     0.74118,     0.74118,     0.74118,     0.74118,     0.74118,     0.74118,     0.74118,           0]]), 'Recall', 'Precision'], [array([          0,    0.001001,    0.002002,    0.003003,    0.004004,    0.005005,    0.006006,    0.007007,    0.008008,    0.009009,     0.01001,    0.011011,    0.012012,    0.013013,    0.014014,    0.015015,    0.016016,    0.017017,    0.018018,    0.019019,     0.02002,    0.021021,    0.022022,    0.023023,\n",
       "          0.024024,    0.025025,    0.026026,    0.027027,    0.028028,    0.029029,     0.03003,    0.031031,    0.032032,    0.033033,    0.034034,    0.035035,    0.036036,    0.037037,    0.038038,    0.039039,     0.04004,    0.041041,    0.042042,    0.043043,    0.044044,    0.045045,    0.046046,    0.047047,\n",
       "          0.048048,    0.049049,     0.05005,    0.051051,    0.052052,    0.053053,    0.054054,    0.055055,    0.056056,    0.057057,    0.058058,    0.059059,     0.06006,    0.061061,    0.062062,    0.063063,    0.064064,    0.065065,    0.066066,    0.067067,    0.068068,    0.069069,     0.07007,    0.071071,\n",
       "          0.072072,    0.073073,    0.074074,    0.075075,    0.076076,    0.077077,    0.078078,    0.079079,     0.08008,    0.081081,    0.082082,    0.083083,    0.084084,    0.085085,    0.086086,    0.087087,    0.088088,    0.089089,     0.09009,    0.091091,    0.092092,    0.093093,    0.094094,    0.095095,\n",
       "          0.096096,    0.097097,    0.098098,    0.099099,      0.1001,      0.1011,      0.1021,      0.1031,      0.1041,     0.10511,     0.10611,     0.10711,     0.10811,     0.10911,     0.11011,     0.11111,     0.11211,     0.11311,     0.11411,     0.11512,     0.11612,     0.11712,     0.11812,     0.11912,\n",
       "           0.12012,     0.12112,     0.12212,     0.12312,     0.12412,     0.12513,     0.12613,     0.12713,     0.12813,     0.12913,     0.13013,     0.13113,     0.13213,     0.13313,     0.13413,     0.13514,     0.13614,     0.13714,     0.13814,     0.13914,     0.14014,     0.14114,     0.14214,     0.14314,\n",
       "           0.14414,     0.14515,     0.14615,     0.14715,     0.14815,     0.14915,     0.15015,     0.15115,     0.15215,     0.15315,     0.15415,     0.15516,     0.15616,     0.15716,     0.15816,     0.15916,     0.16016,     0.16116,     0.16216,     0.16316,     0.16416,     0.16517,     0.16617,     0.16717,\n",
       "           0.16817,     0.16917,     0.17017,     0.17117,     0.17217,     0.17317,     0.17417,     0.17518,     0.17618,     0.17718,     0.17818,     0.17918,     0.18018,     0.18118,     0.18218,     0.18318,     0.18418,     0.18519,     0.18619,     0.18719,     0.18819,     0.18919,     0.19019,     0.19119,\n",
       "           0.19219,     0.19319,     0.19419,      0.1952,      0.1962,      0.1972,      0.1982,      0.1992,      0.2002,      0.2012,      0.2022,      0.2032,      0.2042,     0.20521,     0.20621,     0.20721,     0.20821,     0.20921,     0.21021,     0.21121,     0.21221,     0.21321,     0.21421,     0.21522,\n",
       "           0.21622,     0.21722,     0.21822,     0.21922,     0.22022,     0.22122,     0.22222,     0.22322,     0.22422,     0.22523,     0.22623,     0.22723,     0.22823,     0.22923,     0.23023,     0.23123,     0.23223,     0.23323,     0.23423,     0.23524,     0.23624,     0.23724,     0.23824,     0.23924,\n",
       "           0.24024,     0.24124,     0.24224,     0.24324,     0.24424,     0.24525,     0.24625,     0.24725,     0.24825,     0.24925,     0.25025,     0.25125,     0.25225,     0.25325,     0.25425,     0.25526,     0.25626,     0.25726,     0.25826,     0.25926,     0.26026,     0.26126,     0.26226,     0.26326,\n",
       "           0.26426,     0.26527,     0.26627,     0.26727,     0.26827,     0.26927,     0.27027,     0.27127,     0.27227,     0.27327,     0.27427,     0.27528,     0.27628,     0.27728,     0.27828,     0.27928,     0.28028,     0.28128,     0.28228,     0.28328,     0.28428,     0.28529,     0.28629,     0.28729,\n",
       "           0.28829,     0.28929,     0.29029,     0.29129,     0.29229,     0.29329,     0.29429,      0.2953,      0.2963,      0.2973,      0.2983,      0.2993,      0.3003,      0.3013,      0.3023,      0.3033,      0.3043,     0.30531,     0.30631,     0.30731,     0.30831,     0.30931,     0.31031,     0.31131,\n",
       "           0.31231,     0.31331,     0.31431,     0.31532,     0.31632,     0.31732,     0.31832,     0.31932,     0.32032,     0.32132,     0.32232,     0.32332,     0.32432,     0.32533,     0.32633,     0.32733,     0.32833,     0.32933,     0.33033,     0.33133,     0.33233,     0.33333,     0.33433,     0.33534,\n",
       "           0.33634,     0.33734,     0.33834,     0.33934,     0.34034,     0.34134,     0.34234,     0.34334,     0.34434,     0.34535,     0.34635,     0.34735,     0.34835,     0.34935,     0.35035,     0.35135,     0.35235,     0.35335,     0.35435,     0.35536,     0.35636,     0.35736,     0.35836,     0.35936,\n",
       "           0.36036,     0.36136,     0.36236,     0.36336,     0.36436,     0.36537,     0.36637,     0.36737,     0.36837,     0.36937,     0.37037,     0.37137,     0.37237,     0.37337,     0.37437,     0.37538,     0.37638,     0.37738,     0.37838,     0.37938,     0.38038,     0.38138,     0.38238,     0.38338,\n",
       "           0.38438,     0.38539,     0.38639,     0.38739,     0.38839,     0.38939,     0.39039,     0.39139,     0.39239,     0.39339,     0.39439,      0.3954,      0.3964,      0.3974,      0.3984,      0.3994,      0.4004,      0.4014,      0.4024,      0.4034,      0.4044,     0.40541,     0.40641,     0.40741,\n",
       "           0.40841,     0.40941,     0.41041,     0.41141,     0.41241,     0.41341,     0.41441,     0.41542,     0.41642,     0.41742,     0.41842,     0.41942,     0.42042,     0.42142,     0.42242,     0.42342,     0.42442,     0.42543,     0.42643,     0.42743,     0.42843,     0.42943,     0.43043,     0.43143,\n",
       "           0.43243,     0.43343,     0.43443,     0.43544,     0.43644,     0.43744,     0.43844,     0.43944,     0.44044,     0.44144,     0.44244,     0.44344,     0.44444,     0.44545,     0.44645,     0.44745,     0.44845,     0.44945,     0.45045,     0.45145,     0.45245,     0.45345,     0.45445,     0.45546,\n",
       "           0.45646,     0.45746,     0.45846,     0.45946,     0.46046,     0.46146,     0.46246,     0.46346,     0.46446,     0.46547,     0.46647,     0.46747,     0.46847,     0.46947,     0.47047,     0.47147,     0.47247,     0.47347,     0.47447,     0.47548,     0.47648,     0.47748,     0.47848,     0.47948,\n",
       "           0.48048,     0.48148,     0.48248,     0.48348,     0.48448,     0.48549,     0.48649,     0.48749,     0.48849,     0.48949,     0.49049,     0.49149,     0.49249,     0.49349,     0.49449,      0.4955,      0.4965,      0.4975,      0.4985,      0.4995,      0.5005,      0.5015,      0.5025,      0.5035,\n",
       "            0.5045,     0.50551,     0.50651,     0.50751,     0.50851,     0.50951,     0.51051,     0.51151,     0.51251,     0.51351,     0.51451,     0.51552,     0.51652,     0.51752,     0.51852,     0.51952,     0.52052,     0.52152,     0.52252,     0.52352,     0.52452,     0.52553,     0.52653,     0.52753,\n",
       "           0.52853,     0.52953,     0.53053,     0.53153,     0.53253,     0.53353,     0.53453,     0.53554,     0.53654,     0.53754,     0.53854,     0.53954,     0.54054,     0.54154,     0.54254,     0.54354,     0.54454,     0.54555,     0.54655,     0.54755,     0.54855,     0.54955,     0.55055,     0.55155,\n",
       "           0.55255,     0.55355,     0.55455,     0.55556,     0.55656,     0.55756,     0.55856,     0.55956,     0.56056,     0.56156,     0.56256,     0.56356,     0.56456,     0.56557,     0.56657,     0.56757,     0.56857,     0.56957,     0.57057,     0.57157,     0.57257,     0.57357,     0.57457,     0.57558,\n",
       "           0.57658,     0.57758,     0.57858,     0.57958,     0.58058,     0.58158,     0.58258,     0.58358,     0.58458,     0.58559,     0.58659,     0.58759,     0.58859,     0.58959,     0.59059,     0.59159,     0.59259,     0.59359,     0.59459,      0.5956,      0.5966,      0.5976,      0.5986,      0.5996,\n",
       "            0.6006,      0.6016,      0.6026,      0.6036,      0.6046,     0.60561,     0.60661,     0.60761,     0.60861,     0.60961,     0.61061,     0.61161,     0.61261,     0.61361,     0.61461,     0.61562,     0.61662,     0.61762,     0.61862,     0.61962,     0.62062,     0.62162,     0.62262,     0.62362,\n",
       "           0.62462,     0.62563,     0.62663,     0.62763,     0.62863,     0.62963,     0.63063,     0.63163,     0.63263,     0.63363,     0.63463,     0.63564,     0.63664,     0.63764,     0.63864,     0.63964,     0.64064,     0.64164,     0.64264,     0.64364,     0.64464,     0.64565,     0.64665,     0.64765,\n",
       "           0.64865,     0.64965,     0.65065,     0.65165,     0.65265,     0.65365,     0.65465,     0.65566,     0.65666,     0.65766,     0.65866,     0.65966,     0.66066,     0.66166,     0.66266,     0.66366,     0.66466,     0.66567,     0.66667,     0.66767,     0.66867,     0.66967,     0.67067,     0.67167,\n",
       "           0.67267,     0.67367,     0.67467,     0.67568,     0.67668,     0.67768,     0.67868,     0.67968,     0.68068,     0.68168,     0.68268,     0.68368,     0.68468,     0.68569,     0.68669,     0.68769,     0.68869,     0.68969,     0.69069,     0.69169,     0.69269,     0.69369,     0.69469,      0.6957,\n",
       "            0.6967,      0.6977,      0.6987,      0.6997,      0.7007,      0.7017,      0.7027,      0.7037,      0.7047,     0.70571,     0.70671,     0.70771,     0.70871,     0.70971,     0.71071,     0.71171,     0.71271,     0.71371,     0.71471,     0.71572,     0.71672,     0.71772,     0.71872,     0.71972,\n",
       "           0.72072,     0.72172,     0.72272,     0.72372,     0.72472,     0.72573,     0.72673,     0.72773,     0.72873,     0.72973,     0.73073,     0.73173,     0.73273,     0.73373,     0.73473,     0.73574,     0.73674,     0.73774,     0.73874,     0.73974,     0.74074,     0.74174,     0.74274,     0.74374,\n",
       "           0.74474,     0.74575,     0.74675,     0.74775,     0.74875,     0.74975,     0.75075,     0.75175,     0.75275,     0.75375,     0.75475,     0.75576,     0.75676,     0.75776,     0.75876,     0.75976,     0.76076,     0.76176,     0.76276,     0.76376,     0.76476,     0.76577,     0.76677,     0.76777,\n",
       "           0.76877,     0.76977,     0.77077,     0.77177,     0.77277,     0.77377,     0.77477,     0.77578,     0.77678,     0.77778,     0.77878,     0.77978,     0.78078,     0.78178,     0.78278,     0.78378,     0.78478,     0.78579,     0.78679,     0.78779,     0.78879,     0.78979,     0.79079,     0.79179,\n",
       "           0.79279,     0.79379,     0.79479,      0.7958,      0.7968,      0.7978,      0.7988,      0.7998,      0.8008,      0.8018,      0.8028,      0.8038,      0.8048,     0.80581,     0.80681,     0.80781,     0.80881,     0.80981,     0.81081,     0.81181,     0.81281,     0.81381,     0.81481,     0.81582,\n",
       "           0.81682,     0.81782,     0.81882,     0.81982,     0.82082,     0.82182,     0.82282,     0.82382,     0.82482,     0.82583,     0.82683,     0.82783,     0.82883,     0.82983,     0.83083,     0.83183,     0.83283,     0.83383,     0.83483,     0.83584,     0.83684,     0.83784,     0.83884,     0.83984,\n",
       "           0.84084,     0.84184,     0.84284,     0.84384,     0.84484,     0.84585,     0.84685,     0.84785,     0.84885,     0.84985,     0.85085,     0.85185,     0.85285,     0.85385,     0.85485,     0.85586,     0.85686,     0.85786,     0.85886,     0.85986,     0.86086,     0.86186,     0.86286,     0.86386,\n",
       "           0.86486,     0.86587,     0.86687,     0.86787,     0.86887,     0.86987,     0.87087,     0.87187,     0.87287,     0.87387,     0.87487,     0.87588,     0.87688,     0.87788,     0.87888,     0.87988,     0.88088,     0.88188,     0.88288,     0.88388,     0.88488,     0.88589,     0.88689,     0.88789,\n",
       "           0.88889,     0.88989,     0.89089,     0.89189,     0.89289,     0.89389,     0.89489,      0.8959,      0.8969,      0.8979,      0.8989,      0.8999,      0.9009,      0.9019,      0.9029,      0.9039,      0.9049,     0.90591,     0.90691,     0.90791,     0.90891,     0.90991,     0.91091,     0.91191,\n",
       "           0.91291,     0.91391,     0.91491,     0.91592,     0.91692,     0.91792,     0.91892,     0.91992,     0.92092,     0.92192,     0.92292,     0.92392,     0.92492,     0.92593,     0.92693,     0.92793,     0.92893,     0.92993,     0.93093,     0.93193,     0.93293,     0.93393,     0.93493,     0.93594,\n",
       "           0.93694,     0.93794,     0.93894,     0.93994,     0.94094,     0.94194,     0.94294,     0.94394,     0.94494,     0.94595,     0.94695,     0.94795,     0.94895,     0.94995,     0.95095,     0.95195,     0.95295,     0.95395,     0.95495,     0.95596,     0.95696,     0.95796,     0.95896,     0.95996,\n",
       "           0.96096,     0.96196,     0.96296,     0.96396,     0.96496,     0.96597,     0.96697,     0.96797,     0.96897,     0.96997,     0.97097,     0.97197,     0.97297,     0.97397,     0.97497,     0.97598,     0.97698,     0.97798,     0.97898,     0.97998,     0.98098,     0.98198,     0.98298,     0.98398,\n",
       "           0.98498,     0.98599,     0.98699,     0.98799,     0.98899,     0.98999,     0.99099,     0.99199,     0.99299,     0.99399,     0.99499,       0.996,       0.997,       0.998,       0.999,           1]), array([[   0.061344,     0.06177,     0.36012,      0.4602,     0.53383,     0.57143,     0.61378,     0.64077,     0.67238,     0.70337,     0.71128,     0.73857,     0.75367,     0.76132,     0.77622,     0.78943,     0.79754,     0.80143,       0.814,     0.82319,     0.82987,     0.83086,     0.83184,\n",
       "            0.83283,     0.83381,     0.83597,     0.84025,     0.84486,      0.8494,       0.847,      0.8446,     0.84496,     0.84749,     0.85089,     0.86234,     0.86833,     0.87015,     0.87197,      0.8795,     0.88563,     0.88622,     0.88673,     0.88724,     0.88775,     0.88826,     0.88877,\n",
       "            0.88928,     0.88979,      0.8903,     0.89081,     0.89131,     0.89182,     0.90127,      0.9057,     0.90695,     0.90819,     0.90944,     0.91068,     0.91188,     0.91288,     0.91388,     0.91488,     0.91587,     0.91686,     0.91786,     0.91857,     0.91872,     0.91886,     0.91901,\n",
       "            0.91916,     0.91931,     0.91946,     0.91961,     0.91975,      0.9199,     0.92005,      0.9202,     0.92035,     0.92049,     0.92064,     0.92079,     0.92094,     0.92109,     0.92123,     0.92138,     0.92153,     0.92168,     0.92182,     0.92197,     0.92212,     0.92227,     0.92241,\n",
       "            0.92256,     0.92271,     0.92286,       0.923,     0.92315,      0.9233,     0.92344,     0.92359,     0.92374,     0.92389,     0.92403,     0.92418,     0.92433,     0.92447,     0.92462,     0.92477,     0.92491,     0.92506,     0.92521,     0.92535,     0.92547,     0.92559,      0.9257,\n",
       "            0.92582,     0.92593,     0.92604,     0.92616,     0.92627,     0.92639,      0.9265,     0.92662,     0.92673,     0.92684,     0.92696,     0.92707,     0.92719,      0.9273,     0.92741,     0.92753,     0.92764,     0.92776,     0.92787,     0.92798,      0.9281,     0.92821,     0.92833,\n",
       "            0.92844,     0.92855,     0.92867,     0.92878,     0.92889,     0.92901,     0.92912,     0.92924,     0.92935,     0.92946,     0.92958,     0.92969,      0.9298,     0.92992,     0.93003,     0.93014,     0.93026,     0.93037,     0.93048,      0.9306,     0.93071,     0.93082,     0.93094,\n",
       "            0.93105,     0.93116,     0.93128,     0.93139,      0.9315,     0.93162,     0.93173,     0.93184,     0.93196,     0.93207,     0.93218,     0.93229,     0.93237,     0.93243,      0.9325,     0.93256,     0.93262,     0.93268,     0.93274,     0.93281,     0.93287,     0.93293,     0.93299,\n",
       "            0.93305,     0.93312,     0.93318,     0.93324,      0.9333,     0.93336,     0.93342,     0.93349,     0.93355,     0.93361,     0.93367,     0.93373,      0.9338,     0.93386,     0.93392,     0.93398,     0.93404,      0.9341,     0.93417,     0.93423,     0.93429,     0.93435,     0.93441,\n",
       "            0.93447,     0.93454,      0.9346,     0.93466,     0.93472,     0.93478,     0.93484,     0.93491,     0.93497,     0.93503,     0.93509,     0.93515,     0.93521,     0.93528,     0.93534,      0.9354,     0.93546,     0.93552,     0.93558,     0.93564,     0.93571,     0.93577,     0.93583,\n",
       "            0.93589,     0.93595,     0.93601,     0.93608,     0.93614,      0.9362,     0.93626,     0.93632,     0.93638,     0.93644,     0.93651,     0.93657,     0.93663,     0.93669,     0.93675,     0.93681,     0.93687,     0.93694,       0.937,     0.93706,     0.93712,     0.93718,     0.93724,\n",
       "             0.9373,     0.93736,     0.93743,     0.93749,     0.93755,     0.93761,     0.93767,     0.93773,     0.93779,     0.93786,     0.93792,     0.93798,     0.93804,      0.9381,     0.93816,     0.93822,     0.93828,     0.93835,     0.93841,     0.93847,     0.93853,     0.93859,     0.93865,\n",
       "            0.93871,     0.93877,     0.93883,      0.9389,     0.93896,     0.93902,     0.93908,     0.93914,      0.9392,     0.93926,     0.93932,     0.93938,     0.93977,     0.94021,     0.94065,     0.94109,     0.94153,     0.94197,     0.94241,     0.94285,     0.94329,     0.94373,     0.94417,\n",
       "             0.9446,     0.94504,     0.94548,     0.94592,     0.94635,     0.94663,     0.94675,     0.94688,       0.947,     0.94713,     0.94725,     0.94738,      0.9475,     0.94763,     0.94775,     0.94788,       0.948,     0.94813,     0.94825,     0.94838,      0.9485,     0.94862,     0.94875,\n",
       "            0.94887,       0.949,     0.94912,     0.94925,     0.94937,      0.9495,     0.94962,     0.94974,     0.94987,     0.94999,     0.95012,     0.95024,     0.95036,     0.95049,     0.95061,     0.95074,     0.95086,     0.95098,     0.95111,     0.95123,     0.95136,     0.95148,      0.9516,\n",
       "            0.95173,     0.95185,     0.95198,      0.9521,     0.95222,     0.95235,     0.95247,     0.95259,     0.95272,     0.95284,     0.95296,     0.95309,     0.95321,     0.95333,     0.95346,     0.95358,      0.9537,     0.95383,     0.95369,     0.95351,     0.95333,     0.95315,     0.95296,\n",
       "            0.95278,      0.9526,     0.95241,     0.95223,     0.95205,     0.95187,     0.95168,      0.9515,     0.95132,     0.95113,     0.95095,     0.95077,     0.95059,      0.9504,     0.95022,     0.95004,     0.94985,     0.94967,     0.94949,      0.9493,     0.94912,     0.94893,     0.94875,\n",
       "            0.94857,     0.94838,      0.9482,     0.94802,     0.94783,     0.94765,     0.94746,     0.94728,     0.94709,     0.94691,     0.94673,     0.94654,     0.94636,     0.94617,     0.94599,      0.9458,     0.94558,     0.94532,     0.94507,     0.94482,     0.94457,     0.94431,     0.94406,\n",
       "            0.94381,     0.94355,      0.9433,     0.94305,     0.94279,     0.94254,     0.94229,     0.94203,     0.94178,     0.94152,     0.94127,     0.94102,     0.94076,     0.94051,     0.94025,        0.94,     0.93974,     0.93949,     0.93923,     0.93898,     0.93872,     0.93847,     0.93821,\n",
       "            0.93796,      0.9377,     0.93747,     0.93735,     0.93722,     0.93709,     0.93696,     0.93683,     0.93671,     0.93658,     0.93645,     0.93632,      0.9362,     0.93607,     0.93594,     0.93581,     0.93568,     0.93556,     0.93543,      0.9353,     0.93517,     0.93504,     0.93492,\n",
       "            0.93479,     0.93466,     0.93453,      0.9344,     0.93428,     0.93415,     0.93402,     0.93389,     0.93376,     0.93363,     0.93351,     0.93338,     0.93325,     0.93312,     0.93299,     0.93286,     0.93274,     0.93261,     0.93248,     0.93235,     0.93222,     0.93209,     0.93196,\n",
       "            0.93183,     0.93171,     0.93158,     0.93145,     0.93132,     0.93119,     0.93106,     0.93093,      0.9308,     0.93068,     0.93055,     0.93042,     0.93029,     0.93016,     0.93003,      0.9299,     0.92977,     0.92964,     0.92951,     0.92938,     0.92925,     0.92911,     0.92874,\n",
       "            0.92837,       0.928,     0.92763,     0.92726,     0.92689,     0.92652,     0.92615,     0.92578,     0.92541,     0.92504,     0.92467,     0.92429,     0.92392,     0.92355,     0.92318,      0.9228,     0.92243,     0.92206,     0.92168,     0.92131,     0.92094,     0.92065,     0.92073,\n",
       "             0.9208,     0.92088,     0.92095,     0.92103,      0.9211,     0.92118,     0.92126,     0.92133,     0.92141,     0.92148,     0.92156,     0.92163,     0.92171,     0.92178,     0.92186,     0.92194,     0.92201,     0.92209,     0.92216,     0.92224,     0.92231,     0.92239,     0.92246,\n",
       "            0.92254,     0.92262,     0.92269,     0.92277,     0.92284,     0.92292,     0.92299,     0.92307,     0.92314,     0.92322,     0.92329,     0.92337,     0.92344,     0.92352,      0.9236,     0.92367,     0.92375,     0.92382,      0.9239,     0.92397,     0.92405,     0.92412,      0.9242,\n",
       "            0.92427,     0.92435,     0.92442,      0.9245,     0.92457,     0.92465,     0.92472,      0.9248,     0.92487,     0.92495,     0.92502,      0.9251,     0.92517,     0.92525,     0.92532,      0.9254,     0.92547,     0.92555,     0.92562,      0.9257,     0.92577,     0.92585,     0.92592,\n",
       "              0.926,     0.92607,     0.92615,     0.92622,      0.9263,     0.92637,     0.92645,     0.92652,      0.9266,     0.92667,     0.92675,     0.92682,      0.9269,     0.92697,     0.92705,     0.92712,      0.9272,     0.92727,     0.92734,     0.92742,     0.92749,     0.92757,     0.92764,\n",
       "            0.92772,     0.92779,     0.92787,     0.92794,     0.92803,     0.92819,     0.92834,      0.9285,     0.92865,      0.9288,     0.92896,     0.92911,     0.92927,     0.92942,     0.92958,     0.92973,     0.92988,     0.93004,     0.93019,     0.93034,      0.9305,     0.93065,      0.9308,\n",
       "            0.93096,     0.93111,     0.93127,     0.93142,     0.93157,     0.93172,     0.93188,     0.93203,     0.93218,     0.93234,     0.93249,     0.93264,      0.9328,     0.93295,      0.9331,     0.93325,     0.93341,     0.93356,     0.93371,     0.93386,     0.93402,     0.93417,     0.93432,\n",
       "            0.93447,     0.93463,     0.93478,     0.93493,     0.93508,     0.93523,     0.93539,      0.9357,     0.93629,     0.93689,     0.93748,     0.93807,     0.93867,     0.93926,     0.93985,     0.94044,     0.94103,     0.94162,      0.9422,     0.94279,     0.94299,     0.94279,     0.94259,\n",
       "            0.94238,     0.94218,     0.94198,     0.94178,     0.94158,     0.94137,     0.94117,     0.94097,     0.94077,     0.94056,     0.94036,     0.94016,     0.93996,     0.93975,     0.93955,     0.93935,     0.93914,     0.93894,     0.93874,     0.93853,     0.93833,     0.93813,     0.93792,\n",
       "            0.93772,     0.93752,     0.93731,     0.93711,      0.9369,      0.9367,      0.9365,     0.93629,     0.93609,     0.93588,     0.93568,     0.93548,     0.93527,     0.93507,     0.93486,     0.93466,     0.93445,     0.93555,     0.93683,     0.93811,     0.93938,     0.94065,     0.94192,\n",
       "            0.94261,     0.94318,     0.94374,      0.9443,     0.94486,     0.94543,     0.94599,     0.94655,     0.94711,     0.94767,     0.94822,     0.94878,     0.94934,     0.94989,     0.94981,     0.94958,     0.94935,     0.94912,     0.94889,     0.94866,     0.94843,      0.9482,     0.94797,\n",
       "            0.94774,     0.94751,     0.94728,     0.94705,     0.94682,     0.94659,     0.94636,     0.94613,      0.9459,     0.94566,     0.94543,      0.9452,     0.94497,     0.94474,     0.94451,     0.94427,     0.94404,     0.94381,     0.94358,     0.94335,     0.94311,     0.94288,     0.94265,\n",
       "            0.94241,     0.94218,     0.94195,     0.94172,     0.94148,     0.94125,     0.94102,      0.9408,     0.94058,     0.94036,     0.94014,     0.93992,      0.9397,     0.93948,     0.93926,     0.93904,     0.93881,     0.93859,     0.93837,     0.93815,     0.93793,     0.93771,     0.93748,\n",
       "            0.93726,     0.93704,     0.93682,      0.9366,     0.93637,     0.93615,     0.93593,     0.93571,     0.93548,     0.93526,     0.93504,     0.93481,     0.93459,     0.93437,     0.93414,     0.93392,      0.9337,     0.93347,     0.93325,     0.93303,      0.9328,     0.93258,     0.93235,\n",
       "            0.93176,     0.93039,     0.92903,     0.92765,     0.92628,      0.9249,     0.92352,     0.92253,     0.92172,     0.92091,      0.9201,     0.91929,     0.91847,     0.91766,     0.91684,     0.91603,     0.91521,     0.91439,     0.91323,     0.91115,     0.90907,     0.90697,     0.90487,\n",
       "            0.90406,     0.90369,     0.90331,     0.90293,     0.90255,     0.90218,      0.9018,     0.90142,     0.90104,     0.90066,     0.90028,      0.8999,     0.89952,     0.89914,     0.89876,     0.89838,       0.898,     0.89762,     0.89723,     0.89685,     0.89647,     0.89609,      0.8957,\n",
       "            0.89532,     0.89494,      0.8938,     0.89184,     0.88986,     0.88788,     0.88589,     0.88401,     0.88224,     0.88046,     0.87868,     0.87689,     0.87509,     0.87446,      0.8739,     0.87333,     0.87277,      0.8722,     0.87163,     0.87107,      0.8705,     0.86993,     0.86936,\n",
       "            0.86879,     0.86822,     0.86765,     0.86708,     0.86651,     0.86593,     0.86536,      0.8648,     0.86434,     0.86389,     0.86343,     0.86297,     0.86251,     0.86205,     0.86159,     0.86114,     0.86068,     0.86022,     0.85975,     0.85929,     0.85883,     0.85837,     0.85791,\n",
       "            0.85745,     0.85698,     0.85652,     0.85606,     0.85559,     0.85513,     0.85466,     0.85378,     0.85276,     0.85174,     0.85072,     0.84969,     0.84867,     0.84764,     0.84661,     0.84558,     0.84454,     0.84325,      0.8417,     0.84016,     0.83861,     0.83705,      0.8355,\n",
       "            0.83393,     0.82707,     0.82062,      0.8173,     0.81396,     0.81093,     0.80909,     0.80725,      0.8054,     0.80354,     0.80168,     0.79941,     0.79333,     0.78669,     0.77802,      0.7497,     0.74558,     0.74144,      0.7365,     0.73112,     0.72415,     0.71338,     0.70318,\n",
       "            0.69245,     0.68542,     0.68161,     0.67777,     0.67391,     0.64891,     0.63564,      0.5896,     0.58018,       0.575,     0.56979,     0.54948,     0.48045,     0.47225,     0.46396,     0.45672,     0.44949,     0.43728,     0.42205,     0.41584,     0.40959,     0.39596,     0.37072,\n",
       "            0.33392,     0.26254,     0.21373,     0.19197,      0.1519,    0.086797,    0.069912,    0.039072,           0,           0,           0]]), 'Confidence', 'F1'], [array([          0,    0.001001,    0.002002,    0.003003,    0.004004,    0.005005,    0.006006,    0.007007,    0.008008,    0.009009,     0.01001,    0.011011,    0.012012,    0.013013,    0.014014,    0.015015,    0.016016,    0.017017,    0.018018,    0.019019,     0.02002,    0.021021,    0.022022,    0.023023,\n",
       "          0.024024,    0.025025,    0.026026,    0.027027,    0.028028,    0.029029,     0.03003,    0.031031,    0.032032,    0.033033,    0.034034,    0.035035,    0.036036,    0.037037,    0.038038,    0.039039,     0.04004,    0.041041,    0.042042,    0.043043,    0.044044,    0.045045,    0.046046,    0.047047,\n",
       "          0.048048,    0.049049,     0.05005,    0.051051,    0.052052,    0.053053,    0.054054,    0.055055,    0.056056,    0.057057,    0.058058,    0.059059,     0.06006,    0.061061,    0.062062,    0.063063,    0.064064,    0.065065,    0.066066,    0.067067,    0.068068,    0.069069,     0.07007,    0.071071,\n",
       "          0.072072,    0.073073,    0.074074,    0.075075,    0.076076,    0.077077,    0.078078,    0.079079,     0.08008,    0.081081,    0.082082,    0.083083,    0.084084,    0.085085,    0.086086,    0.087087,    0.088088,    0.089089,     0.09009,    0.091091,    0.092092,    0.093093,    0.094094,    0.095095,\n",
       "          0.096096,    0.097097,    0.098098,    0.099099,      0.1001,      0.1011,      0.1021,      0.1031,      0.1041,     0.10511,     0.10611,     0.10711,     0.10811,     0.10911,     0.11011,     0.11111,     0.11211,     0.11311,     0.11411,     0.11512,     0.11612,     0.11712,     0.11812,     0.11912,\n",
       "           0.12012,     0.12112,     0.12212,     0.12312,     0.12412,     0.12513,     0.12613,     0.12713,     0.12813,     0.12913,     0.13013,     0.13113,     0.13213,     0.13313,     0.13413,     0.13514,     0.13614,     0.13714,     0.13814,     0.13914,     0.14014,     0.14114,     0.14214,     0.14314,\n",
       "           0.14414,     0.14515,     0.14615,     0.14715,     0.14815,     0.14915,     0.15015,     0.15115,     0.15215,     0.15315,     0.15415,     0.15516,     0.15616,     0.15716,     0.15816,     0.15916,     0.16016,     0.16116,     0.16216,     0.16316,     0.16416,     0.16517,     0.16617,     0.16717,\n",
       "           0.16817,     0.16917,     0.17017,     0.17117,     0.17217,     0.17317,     0.17417,     0.17518,     0.17618,     0.17718,     0.17818,     0.17918,     0.18018,     0.18118,     0.18218,     0.18318,     0.18418,     0.18519,     0.18619,     0.18719,     0.18819,     0.18919,     0.19019,     0.19119,\n",
       "           0.19219,     0.19319,     0.19419,      0.1952,      0.1962,      0.1972,      0.1982,      0.1992,      0.2002,      0.2012,      0.2022,      0.2032,      0.2042,     0.20521,     0.20621,     0.20721,     0.20821,     0.20921,     0.21021,     0.21121,     0.21221,     0.21321,     0.21421,     0.21522,\n",
       "           0.21622,     0.21722,     0.21822,     0.21922,     0.22022,     0.22122,     0.22222,     0.22322,     0.22422,     0.22523,     0.22623,     0.22723,     0.22823,     0.22923,     0.23023,     0.23123,     0.23223,     0.23323,     0.23423,     0.23524,     0.23624,     0.23724,     0.23824,     0.23924,\n",
       "           0.24024,     0.24124,     0.24224,     0.24324,     0.24424,     0.24525,     0.24625,     0.24725,     0.24825,     0.24925,     0.25025,     0.25125,     0.25225,     0.25325,     0.25425,     0.25526,     0.25626,     0.25726,     0.25826,     0.25926,     0.26026,     0.26126,     0.26226,     0.26326,\n",
       "           0.26426,     0.26527,     0.26627,     0.26727,     0.26827,     0.26927,     0.27027,     0.27127,     0.27227,     0.27327,     0.27427,     0.27528,     0.27628,     0.27728,     0.27828,     0.27928,     0.28028,     0.28128,     0.28228,     0.28328,     0.28428,     0.28529,     0.28629,     0.28729,\n",
       "           0.28829,     0.28929,     0.29029,     0.29129,     0.29229,     0.29329,     0.29429,      0.2953,      0.2963,      0.2973,      0.2983,      0.2993,      0.3003,      0.3013,      0.3023,      0.3033,      0.3043,     0.30531,     0.30631,     0.30731,     0.30831,     0.30931,     0.31031,     0.31131,\n",
       "           0.31231,     0.31331,     0.31431,     0.31532,     0.31632,     0.31732,     0.31832,     0.31932,     0.32032,     0.32132,     0.32232,     0.32332,     0.32432,     0.32533,     0.32633,     0.32733,     0.32833,     0.32933,     0.33033,     0.33133,     0.33233,     0.33333,     0.33433,     0.33534,\n",
       "           0.33634,     0.33734,     0.33834,     0.33934,     0.34034,     0.34134,     0.34234,     0.34334,     0.34434,     0.34535,     0.34635,     0.34735,     0.34835,     0.34935,     0.35035,     0.35135,     0.35235,     0.35335,     0.35435,     0.35536,     0.35636,     0.35736,     0.35836,     0.35936,\n",
       "           0.36036,     0.36136,     0.36236,     0.36336,     0.36436,     0.36537,     0.36637,     0.36737,     0.36837,     0.36937,     0.37037,     0.37137,     0.37237,     0.37337,     0.37437,     0.37538,     0.37638,     0.37738,     0.37838,     0.37938,     0.38038,     0.38138,     0.38238,     0.38338,\n",
       "           0.38438,     0.38539,     0.38639,     0.38739,     0.38839,     0.38939,     0.39039,     0.39139,     0.39239,     0.39339,     0.39439,      0.3954,      0.3964,      0.3974,      0.3984,      0.3994,      0.4004,      0.4014,      0.4024,      0.4034,      0.4044,     0.40541,     0.40641,     0.40741,\n",
       "           0.40841,     0.40941,     0.41041,     0.41141,     0.41241,     0.41341,     0.41441,     0.41542,     0.41642,     0.41742,     0.41842,     0.41942,     0.42042,     0.42142,     0.42242,     0.42342,     0.42442,     0.42543,     0.42643,     0.42743,     0.42843,     0.42943,     0.43043,     0.43143,\n",
       "           0.43243,     0.43343,     0.43443,     0.43544,     0.43644,     0.43744,     0.43844,     0.43944,     0.44044,     0.44144,     0.44244,     0.44344,     0.44444,     0.44545,     0.44645,     0.44745,     0.44845,     0.44945,     0.45045,     0.45145,     0.45245,     0.45345,     0.45445,     0.45546,\n",
       "           0.45646,     0.45746,     0.45846,     0.45946,     0.46046,     0.46146,     0.46246,     0.46346,     0.46446,     0.46547,     0.46647,     0.46747,     0.46847,     0.46947,     0.47047,     0.47147,     0.47247,     0.47347,     0.47447,     0.47548,     0.47648,     0.47748,     0.47848,     0.47948,\n",
       "           0.48048,     0.48148,     0.48248,     0.48348,     0.48448,     0.48549,     0.48649,     0.48749,     0.48849,     0.48949,     0.49049,     0.49149,     0.49249,     0.49349,     0.49449,      0.4955,      0.4965,      0.4975,      0.4985,      0.4995,      0.5005,      0.5015,      0.5025,      0.5035,\n",
       "            0.5045,     0.50551,     0.50651,     0.50751,     0.50851,     0.50951,     0.51051,     0.51151,     0.51251,     0.51351,     0.51451,     0.51552,     0.51652,     0.51752,     0.51852,     0.51952,     0.52052,     0.52152,     0.52252,     0.52352,     0.52452,     0.52553,     0.52653,     0.52753,\n",
       "           0.52853,     0.52953,     0.53053,     0.53153,     0.53253,     0.53353,     0.53453,     0.53554,     0.53654,     0.53754,     0.53854,     0.53954,     0.54054,     0.54154,     0.54254,     0.54354,     0.54454,     0.54555,     0.54655,     0.54755,     0.54855,     0.54955,     0.55055,     0.55155,\n",
       "           0.55255,     0.55355,     0.55455,     0.55556,     0.55656,     0.55756,     0.55856,     0.55956,     0.56056,     0.56156,     0.56256,     0.56356,     0.56456,     0.56557,     0.56657,     0.56757,     0.56857,     0.56957,     0.57057,     0.57157,     0.57257,     0.57357,     0.57457,     0.57558,\n",
       "           0.57658,     0.57758,     0.57858,     0.57958,     0.58058,     0.58158,     0.58258,     0.58358,     0.58458,     0.58559,     0.58659,     0.58759,     0.58859,     0.58959,     0.59059,     0.59159,     0.59259,     0.59359,     0.59459,      0.5956,      0.5966,      0.5976,      0.5986,      0.5996,\n",
       "            0.6006,      0.6016,      0.6026,      0.6036,      0.6046,     0.60561,     0.60661,     0.60761,     0.60861,     0.60961,     0.61061,     0.61161,     0.61261,     0.61361,     0.61461,     0.61562,     0.61662,     0.61762,     0.61862,     0.61962,     0.62062,     0.62162,     0.62262,     0.62362,\n",
       "           0.62462,     0.62563,     0.62663,     0.62763,     0.62863,     0.62963,     0.63063,     0.63163,     0.63263,     0.63363,     0.63463,     0.63564,     0.63664,     0.63764,     0.63864,     0.63964,     0.64064,     0.64164,     0.64264,     0.64364,     0.64464,     0.64565,     0.64665,     0.64765,\n",
       "           0.64865,     0.64965,     0.65065,     0.65165,     0.65265,     0.65365,     0.65465,     0.65566,     0.65666,     0.65766,     0.65866,     0.65966,     0.66066,     0.66166,     0.66266,     0.66366,     0.66466,     0.66567,     0.66667,     0.66767,     0.66867,     0.66967,     0.67067,     0.67167,\n",
       "           0.67267,     0.67367,     0.67467,     0.67568,     0.67668,     0.67768,     0.67868,     0.67968,     0.68068,     0.68168,     0.68268,     0.68368,     0.68468,     0.68569,     0.68669,     0.68769,     0.68869,     0.68969,     0.69069,     0.69169,     0.69269,     0.69369,     0.69469,      0.6957,\n",
       "            0.6967,      0.6977,      0.6987,      0.6997,      0.7007,      0.7017,      0.7027,      0.7037,      0.7047,     0.70571,     0.70671,     0.70771,     0.70871,     0.70971,     0.71071,     0.71171,     0.71271,     0.71371,     0.71471,     0.71572,     0.71672,     0.71772,     0.71872,     0.71972,\n",
       "           0.72072,     0.72172,     0.72272,     0.72372,     0.72472,     0.72573,     0.72673,     0.72773,     0.72873,     0.72973,     0.73073,     0.73173,     0.73273,     0.73373,     0.73473,     0.73574,     0.73674,     0.73774,     0.73874,     0.73974,     0.74074,     0.74174,     0.74274,     0.74374,\n",
       "           0.74474,     0.74575,     0.74675,     0.74775,     0.74875,     0.74975,     0.75075,     0.75175,     0.75275,     0.75375,     0.75475,     0.75576,     0.75676,     0.75776,     0.75876,     0.75976,     0.76076,     0.76176,     0.76276,     0.76376,     0.76476,     0.76577,     0.76677,     0.76777,\n",
       "           0.76877,     0.76977,     0.77077,     0.77177,     0.77277,     0.77377,     0.77477,     0.77578,     0.77678,     0.77778,     0.77878,     0.77978,     0.78078,     0.78178,     0.78278,     0.78378,     0.78478,     0.78579,     0.78679,     0.78779,     0.78879,     0.78979,     0.79079,     0.79179,\n",
       "           0.79279,     0.79379,     0.79479,      0.7958,      0.7968,      0.7978,      0.7988,      0.7998,      0.8008,      0.8018,      0.8028,      0.8038,      0.8048,     0.80581,     0.80681,     0.80781,     0.80881,     0.80981,     0.81081,     0.81181,     0.81281,     0.81381,     0.81481,     0.81582,\n",
       "           0.81682,     0.81782,     0.81882,     0.81982,     0.82082,     0.82182,     0.82282,     0.82382,     0.82482,     0.82583,     0.82683,     0.82783,     0.82883,     0.82983,     0.83083,     0.83183,     0.83283,     0.83383,     0.83483,     0.83584,     0.83684,     0.83784,     0.83884,     0.83984,\n",
       "           0.84084,     0.84184,     0.84284,     0.84384,     0.84484,     0.84585,     0.84685,     0.84785,     0.84885,     0.84985,     0.85085,     0.85185,     0.85285,     0.85385,     0.85485,     0.85586,     0.85686,     0.85786,     0.85886,     0.85986,     0.86086,     0.86186,     0.86286,     0.86386,\n",
       "           0.86486,     0.86587,     0.86687,     0.86787,     0.86887,     0.86987,     0.87087,     0.87187,     0.87287,     0.87387,     0.87487,     0.87588,     0.87688,     0.87788,     0.87888,     0.87988,     0.88088,     0.88188,     0.88288,     0.88388,     0.88488,     0.88589,     0.88689,     0.88789,\n",
       "           0.88889,     0.88989,     0.89089,     0.89189,     0.89289,     0.89389,     0.89489,      0.8959,      0.8969,      0.8979,      0.8989,      0.8999,      0.9009,      0.9019,      0.9029,      0.9039,      0.9049,     0.90591,     0.90691,     0.90791,     0.90891,     0.90991,     0.91091,     0.91191,\n",
       "           0.91291,     0.91391,     0.91491,     0.91592,     0.91692,     0.91792,     0.91892,     0.91992,     0.92092,     0.92192,     0.92292,     0.92392,     0.92492,     0.92593,     0.92693,     0.92793,     0.92893,     0.92993,     0.93093,     0.93193,     0.93293,     0.93393,     0.93493,     0.93594,\n",
       "           0.93694,     0.93794,     0.93894,     0.93994,     0.94094,     0.94194,     0.94294,     0.94394,     0.94494,     0.94595,     0.94695,     0.94795,     0.94895,     0.94995,     0.95095,     0.95195,     0.95295,     0.95395,     0.95495,     0.95596,     0.95696,     0.95796,     0.95896,     0.95996,\n",
       "           0.96096,     0.96196,     0.96296,     0.96396,     0.96496,     0.96597,     0.96697,     0.96797,     0.96897,     0.96997,     0.97097,     0.97197,     0.97297,     0.97397,     0.97497,     0.97598,     0.97698,     0.97798,     0.97898,     0.97998,     0.98098,     0.98198,     0.98298,     0.98398,\n",
       "           0.98498,     0.98599,     0.98699,     0.98799,     0.98899,     0.98999,     0.99099,     0.99199,     0.99299,     0.99399,     0.99499,       0.996,       0.997,       0.998,       0.999,           1]), array([[   0.031642,    0.031869,      0.2196,     0.29887,      0.3641,         0.4,     0.44278,     0.47142,     0.50646,     0.54245,     0.55193,      0.5855,     0.60471,     0.61462,     0.63429,     0.65212,     0.66325,     0.66865,     0.68634,     0.69951,     0.70922,     0.71066,      0.7121,\n",
       "            0.71354,     0.71498,     0.71816,      0.7245,     0.73139,      0.7404,     0.73946,     0.73851,     0.74027,     0.74416,     0.74944,     0.76738,     0.77691,     0.77983,     0.78276,     0.79498,     0.80506,     0.80603,     0.80688,     0.80772,     0.80857,     0.80942,     0.81026,\n",
       "            0.81111,     0.81196,      0.8128,     0.81365,      0.8145,     0.81535,     0.83128,     0.83885,       0.841,     0.84314,     0.84528,     0.84743,     0.84952,     0.85126,       0.853,     0.85473,     0.85647,     0.85821,     0.85995,      0.8612,     0.86146,     0.86172,     0.86198,\n",
       "            0.86224,      0.8625,     0.86276,     0.86302,     0.86329,     0.86355,     0.86381,     0.86407,     0.86433,     0.86459,     0.86485,     0.86511,     0.86537,     0.86563,      0.8659,     0.86616,     0.86642,     0.86668,     0.86694,      0.8672,     0.86746,     0.86772,     0.86798,\n",
       "            0.86825,     0.86851,     0.86877,     0.86903,     0.86929,     0.86955,     0.86981,     0.87007,     0.87033,     0.87059,     0.87086,     0.87112,     0.87138,     0.87164,      0.8719,     0.87216,     0.87242,     0.87268,     0.87294,     0.87321,     0.87342,     0.87362,     0.87382,\n",
       "            0.87403,     0.87423,     0.87444,     0.87464,     0.87484,     0.87505,     0.87525,     0.87546,     0.87566,     0.87586,     0.87607,     0.87627,     0.87647,     0.87668,     0.87688,     0.87709,     0.87729,     0.87749,      0.8777,      0.8779,     0.87811,     0.87831,     0.87851,\n",
       "            0.87872,     0.87892,     0.87912,     0.87933,     0.87953,     0.87974,     0.87994,     0.88014,     0.88035,     0.88055,     0.88076,     0.88096,     0.88116,     0.88137,     0.88157,     0.88177,     0.88198,     0.88218,     0.88239,     0.88259,     0.88279,       0.883,      0.8832,\n",
       "            0.88341,     0.88361,     0.88381,     0.88402,     0.88422,     0.88442,     0.88463,     0.88483,     0.88504,     0.88524,     0.88544,     0.88565,     0.88579,      0.8859,     0.88601,     0.88613,     0.88624,     0.88635,     0.88646,     0.88657,     0.88668,      0.8868,     0.88691,\n",
       "            0.88702,     0.88713,     0.88724,     0.88735,     0.88747,     0.88758,     0.88769,      0.8878,     0.88791,     0.88803,     0.88814,     0.88825,     0.88836,     0.88847,     0.88858,      0.8887,     0.88881,     0.88892,     0.88903,     0.88914,     0.88926,     0.88937,     0.88948,\n",
       "            0.88959,      0.8897,     0.88981,     0.88993,     0.89004,     0.89015,     0.89026,     0.89037,     0.89048,      0.8906,     0.89071,     0.89082,     0.89093,     0.89104,     0.89116,     0.89127,     0.89138,     0.89149,      0.8916,     0.89171,     0.89183,     0.89194,     0.89205,\n",
       "            0.89216,     0.89227,     0.89239,      0.8925,     0.89261,     0.89272,     0.89283,     0.89294,     0.89306,     0.89317,     0.89328,     0.89339,      0.8935,     0.89362,     0.89373,     0.89384,     0.89395,     0.89406,     0.89417,     0.89429,      0.8944,     0.89451,     0.89462,\n",
       "            0.89473,     0.89484,     0.89496,     0.89507,     0.89518,     0.89529,      0.8954,     0.89552,     0.89563,     0.89574,     0.89585,     0.89596,     0.89607,     0.89619,      0.8963,     0.89641,     0.89652,     0.89663,     0.89675,     0.89686,     0.89697,     0.89708,     0.89719,\n",
       "             0.8973,     0.89742,     0.89753,     0.89764,     0.89775,     0.89786,     0.89797,     0.89809,      0.8982,     0.89831,     0.89842,     0.89853,     0.89924,     0.90005,     0.90085,     0.90166,     0.90247,     0.90328,     0.90409,      0.9049,     0.90571,     0.90652,     0.90733,\n",
       "            0.90813,     0.90894,     0.90975,     0.91056,     0.91137,     0.91188,     0.91212,     0.91235,     0.91258,     0.91281,     0.91304,     0.91328,     0.91351,     0.91374,     0.91397,      0.9142,     0.91443,     0.91467,      0.9149,     0.91513,     0.91536,     0.91559,     0.91583,\n",
       "            0.91606,     0.91629,     0.91652,     0.91675,     0.91699,     0.91722,     0.91745,     0.91768,     0.91791,     0.91815,     0.91838,     0.91861,     0.91884,     0.91907,     0.91931,     0.91954,     0.91977,        0.92,     0.92023,     0.92047,      0.9207,     0.92093,     0.92116,\n",
       "            0.92139,     0.92163,     0.92186,     0.92209,     0.92232,     0.92255,     0.92279,     0.92302,     0.92325,     0.92348,     0.92371,     0.92395,     0.92418,     0.92441,     0.92464,     0.92487,     0.92511,     0.92534,     0.92535,     0.92533,      0.9253,     0.92527,     0.92525,\n",
       "            0.92522,      0.9252,     0.92517,     0.92515,     0.92512,      0.9251,     0.92507,     0.92504,     0.92502,     0.92499,     0.92497,     0.92494,     0.92492,     0.92489,     0.92487,     0.92484,     0.92481,     0.92479,     0.92476,     0.92474,     0.92471,     0.92469,     0.92466,\n",
       "            0.92464,     0.92461,     0.92458,     0.92456,     0.92453,     0.92451,     0.92448,     0.92446,     0.92443,     0.92441,     0.92438,     0.92435,     0.92433,      0.9243,     0.92428,     0.92425,     0.92422,     0.92418,     0.92415,     0.92411,     0.92408,     0.92404,       0.924,\n",
       "            0.92397,     0.92393,      0.9239,     0.92386,     0.92382,     0.92379,     0.92375,     0.92372,     0.92368,     0.92364,     0.92361,     0.92357,     0.92354,      0.9235,     0.92346,     0.92343,     0.92339,     0.92336,     0.92332,     0.92328,     0.92325,     0.92321,     0.92318,\n",
       "            0.92314,     0.92311,     0.92307,     0.92305,     0.92304,     0.92302,       0.923,     0.92298,     0.92296,     0.92294,     0.92293,     0.92291,     0.92289,     0.92287,     0.92285,     0.92283,     0.92281,      0.9228,     0.92278,     0.92276,     0.92274,     0.92272,      0.9227,\n",
       "            0.92269,     0.92267,     0.92265,     0.92263,     0.92261,     0.92259,     0.92257,     0.92256,     0.92254,     0.92252,      0.9225,     0.92248,     0.92246,     0.92245,     0.92243,     0.92241,     0.92239,     0.92237,     0.92235,     0.92234,     0.92232,      0.9223,     0.92228,\n",
       "            0.92226,     0.92224,     0.92222,     0.92221,     0.92219,     0.92217,     0.92215,     0.92213,     0.92211,      0.9221,     0.92208,     0.92206,     0.92204,     0.92202,       0.922,     0.92198,     0.92197,     0.92195,     0.92193,     0.92191,     0.92189,     0.92187,     0.92182,\n",
       "            0.92176,     0.92171,     0.92165,      0.9216,     0.92155,     0.92149,     0.92144,     0.92138,     0.92133,     0.92128,     0.92122,     0.92117,     0.92111,     0.92106,       0.921,     0.92095,      0.9209,     0.92084,     0.92079,     0.92073,     0.92068,     0.92066,     0.92082,\n",
       "            0.92097,     0.92112,     0.92127,     0.92142,     0.92157,     0.92173,     0.92188,     0.92203,     0.92218,     0.92233,     0.92248,     0.92263,     0.92279,     0.92294,     0.92309,     0.92324,     0.92339,     0.92354,      0.9237,     0.92385,       0.924,     0.92415,      0.9243,\n",
       "            0.92445,      0.9246,     0.92476,     0.92491,     0.92506,     0.92521,     0.92536,     0.92551,     0.92567,     0.92582,     0.92597,     0.92612,     0.92627,     0.92642,     0.92657,     0.92673,     0.92688,     0.92703,     0.92718,     0.92733,     0.92748,     0.92764,     0.92779,\n",
       "            0.92794,     0.92809,     0.92824,     0.92839,     0.92855,      0.9287,     0.92885,       0.929,     0.92915,      0.9293,     0.92945,     0.92961,     0.92976,     0.92991,     0.93006,     0.93021,     0.93036,     0.93052,     0.93067,     0.93082,     0.93097,     0.93112,     0.93127,\n",
       "            0.93142,     0.93158,     0.93173,     0.93188,     0.93203,     0.93218,     0.93233,     0.93249,     0.93264,     0.93279,     0.93294,     0.93309,     0.93324,     0.93339,     0.93355,      0.9337,     0.93385,       0.934,     0.93415,      0.9343,     0.93446,     0.93461,     0.93476,\n",
       "            0.93491,     0.93506,     0.93521,     0.93537,     0.93555,     0.93587,     0.93618,     0.93649,     0.93681,     0.93712,     0.93743,     0.93775,     0.93806,     0.93838,     0.93869,       0.939,     0.93932,     0.93963,     0.93995,     0.94026,     0.94057,     0.94089,      0.9412,\n",
       "            0.94152,     0.94183,     0.94214,     0.94246,     0.94277,     0.94309,      0.9434,     0.94371,     0.94403,     0.94434,     0.94465,     0.94497,     0.94528,      0.9456,     0.94591,     0.94622,     0.94654,     0.94685,     0.94717,     0.94748,     0.94779,     0.94811,     0.94842,\n",
       "            0.94874,     0.94905,     0.94936,     0.94968,     0.94999,      0.9503,     0.95062,     0.95126,     0.95249,     0.95373,     0.95496,     0.95619,     0.95742,     0.95865,     0.95988,     0.96111,     0.96234,     0.96358,     0.96481,     0.96604,     0.96666,     0.96665,     0.96663,\n",
       "            0.96662,     0.96661,     0.96659,     0.96658,     0.96657,     0.96655,     0.96654,     0.96653,     0.96651,      0.9665,     0.96649,     0.96647,     0.96646,     0.96645,     0.96643,     0.96642,     0.96641,      0.9664,     0.96638,     0.96637,     0.96636,     0.96634,     0.96633,\n",
       "            0.96632,      0.9663,     0.96629,     0.96628,     0.96626,     0.96625,     0.96624,     0.96622,     0.96621,      0.9662,     0.96618,     0.96617,     0.96616,     0.96614,     0.96613,     0.96612,      0.9661,      0.9685,     0.97126,     0.97401,     0.97676,     0.97951,     0.98226,\n",
       "            0.98376,       0.985,     0.98623,     0.98746,     0.98869,     0.98992,     0.99115,     0.99238,     0.99361,     0.99484,     0.99607,      0.9973,     0.99853,     0.99977,           1,           1,           1,           1,           1,           1,           1,           1,           1,\n",
       "                  1,           1,           1,           1,           1,           1,           1,           1,           1,           1,           1,           1,           1,           1,           1,           1,           1,           1,           1,           1,           1,           1,           1,\n",
       "                  1,           1,           1,           1,           1,           1,           1,           1,           1,           1,           1,           1,           1,           1,           1,           1,           1,           1,           1,           1,           1,           1,           1,\n",
       "                  1,           1,           1,           1,           1,           1,           1,           1,           1,           1,           1,           1,           1,           1,           1,           1,           1,           1,           1,           1,           1,           1,           1,\n",
       "                  1,           1,           1,           1,           1,           1,           1,           1,           1,           1,           1,           1,           1,           1,           1,           1,           1,           1,           1,           1,           1,           1,           1,\n",
       "                  1,           1,           1,           1,           1,           1,           1,           1,           1,           1,           1,           1,           1,           1,           1,           1,           1,           1,           1,           1,           1,           1,           1,\n",
       "                  1,           1,           1,           1,           1,           1,           1,           1,           1,           1,           1,           1,           1,           1,           1,           1,           1,           1,           1,           1,           1,           1,           1,\n",
       "                  1,           1,           1,           1,           1,           1,           1,           1,           1,           1,           1,           1,           1,           1,           1,           1,           1,           1,           1,           1,           1,           1,           1,\n",
       "                  1,           1,           1,           1,           1,           1,           1,           1,           1,           1,           1,           1,           1,           1,           1,           1,           1,           1,           1,           1,           1,           1,           1,\n",
       "                  1,           1,           1,           1,           1,           1,           1,           1,           1,           1,           1,           1,           1,           1,           1,           1,           1,           1,           1,           1,           1,           1,           1,\n",
       "                  1,           1,           1,           1,           1,           1,           1,           1,           1,           1,           1,           1,           1,           1,           1,           1,           1,           1,           1,           1,           1,           1,           1,\n",
       "                  1,           1,           1,           1,           1,           1,           1,           1,           1,           1,           1]]), 'Confidence', 'Precision'], [array([          0,    0.001001,    0.002002,    0.003003,    0.004004,    0.005005,    0.006006,    0.007007,    0.008008,    0.009009,     0.01001,    0.011011,    0.012012,    0.013013,    0.014014,    0.015015,    0.016016,    0.017017,    0.018018,    0.019019,     0.02002,    0.021021,    0.022022,    0.023023,\n",
       "          0.024024,    0.025025,    0.026026,    0.027027,    0.028028,    0.029029,     0.03003,    0.031031,    0.032032,    0.033033,    0.034034,    0.035035,    0.036036,    0.037037,    0.038038,    0.039039,     0.04004,    0.041041,    0.042042,    0.043043,    0.044044,    0.045045,    0.046046,    0.047047,\n",
       "          0.048048,    0.049049,     0.05005,    0.051051,    0.052052,    0.053053,    0.054054,    0.055055,    0.056056,    0.057057,    0.058058,    0.059059,     0.06006,    0.061061,    0.062062,    0.063063,    0.064064,    0.065065,    0.066066,    0.067067,    0.068068,    0.069069,     0.07007,    0.071071,\n",
       "          0.072072,    0.073073,    0.074074,    0.075075,    0.076076,    0.077077,    0.078078,    0.079079,     0.08008,    0.081081,    0.082082,    0.083083,    0.084084,    0.085085,    0.086086,    0.087087,    0.088088,    0.089089,     0.09009,    0.091091,    0.092092,    0.093093,    0.094094,    0.095095,\n",
       "          0.096096,    0.097097,    0.098098,    0.099099,      0.1001,      0.1011,      0.1021,      0.1031,      0.1041,     0.10511,     0.10611,     0.10711,     0.10811,     0.10911,     0.11011,     0.11111,     0.11211,     0.11311,     0.11411,     0.11512,     0.11612,     0.11712,     0.11812,     0.11912,\n",
       "           0.12012,     0.12112,     0.12212,     0.12312,     0.12412,     0.12513,     0.12613,     0.12713,     0.12813,     0.12913,     0.13013,     0.13113,     0.13213,     0.13313,     0.13413,     0.13514,     0.13614,     0.13714,     0.13814,     0.13914,     0.14014,     0.14114,     0.14214,     0.14314,\n",
       "           0.14414,     0.14515,     0.14615,     0.14715,     0.14815,     0.14915,     0.15015,     0.15115,     0.15215,     0.15315,     0.15415,     0.15516,     0.15616,     0.15716,     0.15816,     0.15916,     0.16016,     0.16116,     0.16216,     0.16316,     0.16416,     0.16517,     0.16617,     0.16717,\n",
       "           0.16817,     0.16917,     0.17017,     0.17117,     0.17217,     0.17317,     0.17417,     0.17518,     0.17618,     0.17718,     0.17818,     0.17918,     0.18018,     0.18118,     0.18218,     0.18318,     0.18418,     0.18519,     0.18619,     0.18719,     0.18819,     0.18919,     0.19019,     0.19119,\n",
       "           0.19219,     0.19319,     0.19419,      0.1952,      0.1962,      0.1972,      0.1982,      0.1992,      0.2002,      0.2012,      0.2022,      0.2032,      0.2042,     0.20521,     0.20621,     0.20721,     0.20821,     0.20921,     0.21021,     0.21121,     0.21221,     0.21321,     0.21421,     0.21522,\n",
       "           0.21622,     0.21722,     0.21822,     0.21922,     0.22022,     0.22122,     0.22222,     0.22322,     0.22422,     0.22523,     0.22623,     0.22723,     0.22823,     0.22923,     0.23023,     0.23123,     0.23223,     0.23323,     0.23423,     0.23524,     0.23624,     0.23724,     0.23824,     0.23924,\n",
       "           0.24024,     0.24124,     0.24224,     0.24324,     0.24424,     0.24525,     0.24625,     0.24725,     0.24825,     0.24925,     0.25025,     0.25125,     0.25225,     0.25325,     0.25425,     0.25526,     0.25626,     0.25726,     0.25826,     0.25926,     0.26026,     0.26126,     0.26226,     0.26326,\n",
       "           0.26426,     0.26527,     0.26627,     0.26727,     0.26827,     0.26927,     0.27027,     0.27127,     0.27227,     0.27327,     0.27427,     0.27528,     0.27628,     0.27728,     0.27828,     0.27928,     0.28028,     0.28128,     0.28228,     0.28328,     0.28428,     0.28529,     0.28629,     0.28729,\n",
       "           0.28829,     0.28929,     0.29029,     0.29129,     0.29229,     0.29329,     0.29429,      0.2953,      0.2963,      0.2973,      0.2983,      0.2993,      0.3003,      0.3013,      0.3023,      0.3033,      0.3043,     0.30531,     0.30631,     0.30731,     0.30831,     0.30931,     0.31031,     0.31131,\n",
       "           0.31231,     0.31331,     0.31431,     0.31532,     0.31632,     0.31732,     0.31832,     0.31932,     0.32032,     0.32132,     0.32232,     0.32332,     0.32432,     0.32533,     0.32633,     0.32733,     0.32833,     0.32933,     0.33033,     0.33133,     0.33233,     0.33333,     0.33433,     0.33534,\n",
       "           0.33634,     0.33734,     0.33834,     0.33934,     0.34034,     0.34134,     0.34234,     0.34334,     0.34434,     0.34535,     0.34635,     0.34735,     0.34835,     0.34935,     0.35035,     0.35135,     0.35235,     0.35335,     0.35435,     0.35536,     0.35636,     0.35736,     0.35836,     0.35936,\n",
       "           0.36036,     0.36136,     0.36236,     0.36336,     0.36436,     0.36537,     0.36637,     0.36737,     0.36837,     0.36937,     0.37037,     0.37137,     0.37237,     0.37337,     0.37437,     0.37538,     0.37638,     0.37738,     0.37838,     0.37938,     0.38038,     0.38138,     0.38238,     0.38338,\n",
       "           0.38438,     0.38539,     0.38639,     0.38739,     0.38839,     0.38939,     0.39039,     0.39139,     0.39239,     0.39339,     0.39439,      0.3954,      0.3964,      0.3974,      0.3984,      0.3994,      0.4004,      0.4014,      0.4024,      0.4034,      0.4044,     0.40541,     0.40641,     0.40741,\n",
       "           0.40841,     0.40941,     0.41041,     0.41141,     0.41241,     0.41341,     0.41441,     0.41542,     0.41642,     0.41742,     0.41842,     0.41942,     0.42042,     0.42142,     0.42242,     0.42342,     0.42442,     0.42543,     0.42643,     0.42743,     0.42843,     0.42943,     0.43043,     0.43143,\n",
       "           0.43243,     0.43343,     0.43443,     0.43544,     0.43644,     0.43744,     0.43844,     0.43944,     0.44044,     0.44144,     0.44244,     0.44344,     0.44444,     0.44545,     0.44645,     0.44745,     0.44845,     0.44945,     0.45045,     0.45145,     0.45245,     0.45345,     0.45445,     0.45546,\n",
       "           0.45646,     0.45746,     0.45846,     0.45946,     0.46046,     0.46146,     0.46246,     0.46346,     0.46446,     0.46547,     0.46647,     0.46747,     0.46847,     0.46947,     0.47047,     0.47147,     0.47247,     0.47347,     0.47447,     0.47548,     0.47648,     0.47748,     0.47848,     0.47948,\n",
       "           0.48048,     0.48148,     0.48248,     0.48348,     0.48448,     0.48549,     0.48649,     0.48749,     0.48849,     0.48949,     0.49049,     0.49149,     0.49249,     0.49349,     0.49449,      0.4955,      0.4965,      0.4975,      0.4985,      0.4995,      0.5005,      0.5015,      0.5025,      0.5035,\n",
       "            0.5045,     0.50551,     0.50651,     0.50751,     0.50851,     0.50951,     0.51051,     0.51151,     0.51251,     0.51351,     0.51451,     0.51552,     0.51652,     0.51752,     0.51852,     0.51952,     0.52052,     0.52152,     0.52252,     0.52352,     0.52452,     0.52553,     0.52653,     0.52753,\n",
       "           0.52853,     0.52953,     0.53053,     0.53153,     0.53253,     0.53353,     0.53453,     0.53554,     0.53654,     0.53754,     0.53854,     0.53954,     0.54054,     0.54154,     0.54254,     0.54354,     0.54454,     0.54555,     0.54655,     0.54755,     0.54855,     0.54955,     0.55055,     0.55155,\n",
       "           0.55255,     0.55355,     0.55455,     0.55556,     0.55656,     0.55756,     0.55856,     0.55956,     0.56056,     0.56156,     0.56256,     0.56356,     0.56456,     0.56557,     0.56657,     0.56757,     0.56857,     0.56957,     0.57057,     0.57157,     0.57257,     0.57357,     0.57457,     0.57558,\n",
       "           0.57658,     0.57758,     0.57858,     0.57958,     0.58058,     0.58158,     0.58258,     0.58358,     0.58458,     0.58559,     0.58659,     0.58759,     0.58859,     0.58959,     0.59059,     0.59159,     0.59259,     0.59359,     0.59459,      0.5956,      0.5966,      0.5976,      0.5986,      0.5996,\n",
       "            0.6006,      0.6016,      0.6026,      0.6036,      0.6046,     0.60561,     0.60661,     0.60761,     0.60861,     0.60961,     0.61061,     0.61161,     0.61261,     0.61361,     0.61461,     0.61562,     0.61662,     0.61762,     0.61862,     0.61962,     0.62062,     0.62162,     0.62262,     0.62362,\n",
       "           0.62462,     0.62563,     0.62663,     0.62763,     0.62863,     0.62963,     0.63063,     0.63163,     0.63263,     0.63363,     0.63463,     0.63564,     0.63664,     0.63764,     0.63864,     0.63964,     0.64064,     0.64164,     0.64264,     0.64364,     0.64464,     0.64565,     0.64665,     0.64765,\n",
       "           0.64865,     0.64965,     0.65065,     0.65165,     0.65265,     0.65365,     0.65465,     0.65566,     0.65666,     0.65766,     0.65866,     0.65966,     0.66066,     0.66166,     0.66266,     0.66366,     0.66466,     0.66567,     0.66667,     0.66767,     0.66867,     0.66967,     0.67067,     0.67167,\n",
       "           0.67267,     0.67367,     0.67467,     0.67568,     0.67668,     0.67768,     0.67868,     0.67968,     0.68068,     0.68168,     0.68268,     0.68368,     0.68468,     0.68569,     0.68669,     0.68769,     0.68869,     0.68969,     0.69069,     0.69169,     0.69269,     0.69369,     0.69469,      0.6957,\n",
       "            0.6967,      0.6977,      0.6987,      0.6997,      0.7007,      0.7017,      0.7027,      0.7037,      0.7047,     0.70571,     0.70671,     0.70771,     0.70871,     0.70971,     0.71071,     0.71171,     0.71271,     0.71371,     0.71471,     0.71572,     0.71672,     0.71772,     0.71872,     0.71972,\n",
       "           0.72072,     0.72172,     0.72272,     0.72372,     0.72472,     0.72573,     0.72673,     0.72773,     0.72873,     0.72973,     0.73073,     0.73173,     0.73273,     0.73373,     0.73473,     0.73574,     0.73674,     0.73774,     0.73874,     0.73974,     0.74074,     0.74174,     0.74274,     0.74374,\n",
       "           0.74474,     0.74575,     0.74675,     0.74775,     0.74875,     0.74975,     0.75075,     0.75175,     0.75275,     0.75375,     0.75475,     0.75576,     0.75676,     0.75776,     0.75876,     0.75976,     0.76076,     0.76176,     0.76276,     0.76376,     0.76476,     0.76577,     0.76677,     0.76777,\n",
       "           0.76877,     0.76977,     0.77077,     0.77177,     0.77277,     0.77377,     0.77477,     0.77578,     0.77678,     0.77778,     0.77878,     0.77978,     0.78078,     0.78178,     0.78278,     0.78378,     0.78478,     0.78579,     0.78679,     0.78779,     0.78879,     0.78979,     0.79079,     0.79179,\n",
       "           0.79279,     0.79379,     0.79479,      0.7958,      0.7968,      0.7978,      0.7988,      0.7998,      0.8008,      0.8018,      0.8028,      0.8038,      0.8048,     0.80581,     0.80681,     0.80781,     0.80881,     0.80981,     0.81081,     0.81181,     0.81281,     0.81381,     0.81481,     0.81582,\n",
       "           0.81682,     0.81782,     0.81882,     0.81982,     0.82082,     0.82182,     0.82282,     0.82382,     0.82482,     0.82583,     0.82683,     0.82783,     0.82883,     0.82983,     0.83083,     0.83183,     0.83283,     0.83383,     0.83483,     0.83584,     0.83684,     0.83784,     0.83884,     0.83984,\n",
       "           0.84084,     0.84184,     0.84284,     0.84384,     0.84484,     0.84585,     0.84685,     0.84785,     0.84885,     0.84985,     0.85085,     0.85185,     0.85285,     0.85385,     0.85485,     0.85586,     0.85686,     0.85786,     0.85886,     0.85986,     0.86086,     0.86186,     0.86286,     0.86386,\n",
       "           0.86486,     0.86587,     0.86687,     0.86787,     0.86887,     0.86987,     0.87087,     0.87187,     0.87287,     0.87387,     0.87487,     0.87588,     0.87688,     0.87788,     0.87888,     0.87988,     0.88088,     0.88188,     0.88288,     0.88388,     0.88488,     0.88589,     0.88689,     0.88789,\n",
       "           0.88889,     0.88989,     0.89089,     0.89189,     0.89289,     0.89389,     0.89489,      0.8959,      0.8969,      0.8979,      0.8989,      0.8999,      0.9009,      0.9019,      0.9029,      0.9039,      0.9049,     0.90591,     0.90691,     0.90791,     0.90891,     0.90991,     0.91091,     0.91191,\n",
       "           0.91291,     0.91391,     0.91491,     0.91592,     0.91692,     0.91792,     0.91892,     0.91992,     0.92092,     0.92192,     0.92292,     0.92392,     0.92492,     0.92593,     0.92693,     0.92793,     0.92893,     0.92993,     0.93093,     0.93193,     0.93293,     0.93393,     0.93493,     0.93594,\n",
       "           0.93694,     0.93794,     0.93894,     0.93994,     0.94094,     0.94194,     0.94294,     0.94394,     0.94494,     0.94595,     0.94695,     0.94795,     0.94895,     0.94995,     0.95095,     0.95195,     0.95295,     0.95395,     0.95495,     0.95596,     0.95696,     0.95796,     0.95896,     0.95996,\n",
       "           0.96096,     0.96196,     0.96296,     0.96396,     0.96496,     0.96597,     0.96697,     0.96797,     0.96897,     0.96997,     0.97097,     0.97197,     0.97297,     0.97397,     0.97497,     0.97598,     0.97698,     0.97798,     0.97898,     0.97998,     0.98098,     0.98198,     0.98298,     0.98398,\n",
       "           0.98498,     0.98599,     0.98699,     0.98799,     0.98899,     0.98999,     0.99099,     0.99199,     0.99299,     0.99399,     0.99499,       0.996,       0.997,       0.998,       0.999,           1]), array([[          1,           1,           1,           1,           1,           1,           1,           1,           1,           1,           1,           1,           1,           1,           1,           1,           1,           1,           1,           1,           1,           1,           1,\n",
       "                  1,           1,           1,           1,           1,     0.99602,     0.99115,     0.98628,     0.98413,     0.98413,     0.98413,     0.98413,     0.98413,     0.98413,     0.98413,     0.98413,     0.98413,     0.98413,     0.98413,     0.98413,     0.98413,     0.98413,     0.98413,\n",
       "            0.98413,     0.98413,     0.98413,     0.98413,     0.98413,     0.98413,     0.98413,     0.98413,     0.98413,     0.98413,     0.98413,     0.98413,     0.98413,     0.98413,     0.98413,     0.98413,     0.98413,     0.98413,     0.98413,     0.98413,     0.98413,     0.98413,     0.98413,\n",
       "            0.98413,     0.98413,     0.98413,     0.98413,     0.98413,     0.98413,     0.98413,     0.98413,     0.98413,     0.98413,     0.98413,     0.98413,     0.98413,     0.98413,     0.98413,     0.98413,     0.98413,     0.98413,     0.98413,     0.98413,     0.98413,     0.98413,     0.98413,\n",
       "            0.98413,     0.98413,     0.98413,     0.98413,     0.98413,     0.98413,     0.98413,     0.98413,     0.98413,     0.98413,     0.98413,     0.98413,     0.98413,     0.98413,     0.98413,     0.98413,     0.98413,     0.98413,     0.98413,     0.98413,     0.98413,     0.98413,     0.98413,\n",
       "            0.98413,     0.98413,     0.98413,     0.98413,     0.98413,     0.98413,     0.98413,     0.98413,     0.98413,     0.98413,     0.98413,     0.98413,     0.98413,     0.98413,     0.98413,     0.98413,     0.98413,     0.98413,     0.98413,     0.98413,     0.98413,     0.98413,     0.98413,\n",
       "            0.98413,     0.98413,     0.98413,     0.98413,     0.98413,     0.98413,     0.98413,     0.98413,     0.98413,     0.98413,     0.98413,     0.98413,     0.98413,     0.98413,     0.98413,     0.98413,     0.98413,     0.98413,     0.98413,     0.98413,     0.98413,     0.98413,     0.98413,\n",
       "            0.98413,     0.98413,     0.98413,     0.98413,     0.98413,     0.98413,     0.98413,     0.98413,     0.98413,     0.98413,     0.98413,     0.98413,     0.98413,     0.98413,     0.98413,     0.98413,     0.98413,     0.98413,     0.98413,     0.98413,     0.98413,     0.98413,     0.98413,\n",
       "            0.98413,     0.98413,     0.98413,     0.98413,     0.98413,     0.98413,     0.98413,     0.98413,     0.98413,     0.98413,     0.98413,     0.98413,     0.98413,     0.98413,     0.98413,     0.98413,     0.98413,     0.98413,     0.98413,     0.98413,     0.98413,     0.98413,     0.98413,\n",
       "            0.98413,     0.98413,     0.98413,     0.98413,     0.98413,     0.98413,     0.98413,     0.98413,     0.98413,     0.98413,     0.98413,     0.98413,     0.98413,     0.98413,     0.98413,     0.98413,     0.98413,     0.98413,     0.98413,     0.98413,     0.98413,     0.98413,     0.98413,\n",
       "            0.98413,     0.98413,     0.98413,     0.98413,     0.98413,     0.98413,     0.98413,     0.98413,     0.98413,     0.98413,     0.98413,     0.98413,     0.98413,     0.98413,     0.98413,     0.98413,     0.98413,     0.98413,     0.98413,     0.98413,     0.98413,     0.98413,     0.98413,\n",
       "            0.98413,     0.98413,     0.98413,     0.98413,     0.98413,     0.98413,     0.98413,     0.98413,     0.98413,     0.98413,     0.98413,     0.98413,     0.98413,     0.98413,     0.98413,     0.98413,     0.98413,     0.98413,     0.98413,     0.98413,     0.98413,     0.98413,     0.98413,\n",
       "            0.98413,     0.98413,     0.98413,     0.98413,     0.98413,     0.98413,     0.98413,     0.98413,     0.98413,     0.98413,     0.98413,     0.98413,     0.98413,     0.98413,     0.98413,     0.98413,     0.98413,     0.98413,     0.98413,     0.98413,     0.98413,     0.98413,     0.98413,\n",
       "            0.98413,     0.98413,     0.98413,     0.98413,     0.98413,     0.98413,     0.98413,     0.98413,     0.98413,     0.98413,     0.98413,     0.98413,     0.98413,     0.98413,     0.98413,     0.98413,     0.98413,     0.98413,     0.98413,     0.98413,     0.98413,     0.98413,     0.98413,\n",
       "            0.98413,     0.98413,     0.98413,     0.98413,     0.98413,     0.98413,     0.98413,     0.98413,     0.98413,     0.98413,     0.98413,     0.98413,     0.98413,     0.98413,     0.98413,     0.98413,     0.98413,     0.98413,     0.98413,     0.98413,     0.98413,     0.98413,     0.98413,\n",
       "            0.98413,     0.98413,     0.98413,     0.98413,     0.98413,     0.98413,     0.98413,     0.98413,     0.98413,     0.98413,     0.98413,     0.98413,     0.98413,     0.98413,     0.98413,     0.98413,     0.98413,     0.98413,     0.98382,     0.98346,     0.98311,     0.98275,     0.98239,\n",
       "            0.98203,     0.98167,     0.98131,     0.98095,     0.98059,     0.98023,     0.97987,     0.97951,     0.97916,      0.9788,     0.97844,     0.97808,     0.97772,     0.97736,       0.977,     0.97664,     0.97628,     0.97592,     0.97557,     0.97521,     0.97485,     0.97449,     0.97413,\n",
       "            0.97377,     0.97341,     0.97305,     0.97269,     0.97233,     0.97197,     0.97162,     0.97126,      0.9709,     0.97054,     0.97018,     0.96982,     0.96946,      0.9691,     0.96874,     0.96838,     0.96794,     0.96745,     0.96696,     0.96647,     0.96598,     0.96549,       0.965,\n",
       "            0.96452,     0.96403,     0.96354,     0.96305,     0.96256,     0.96207,     0.96158,     0.96109,      0.9606,     0.96011,     0.95962,     0.95913,     0.95864,     0.95815,     0.95766,     0.95717,     0.95668,     0.95619,      0.9557,     0.95521,     0.95472,     0.95424,     0.95375,\n",
       "            0.95326,     0.95277,     0.95233,     0.95209,     0.95184,      0.9516,     0.95135,     0.95111,     0.95087,     0.95062,     0.95038,     0.95014,     0.94989,     0.94965,     0.94941,     0.94916,     0.94892,     0.94867,     0.94843,     0.94819,     0.94794,      0.9477,     0.94746,\n",
       "            0.94721,     0.94697,     0.94673,     0.94648,     0.94624,     0.94599,     0.94575,     0.94551,     0.94526,     0.94502,     0.94478,     0.94453,     0.94429,     0.94405,      0.9438,     0.94356,     0.94331,     0.94307,     0.94283,     0.94258,     0.94234,      0.9421,     0.94185,\n",
       "            0.94161,     0.94137,     0.94112,     0.94088,     0.94063,     0.94039,     0.94015,      0.9399,     0.93966,     0.93942,     0.93917,     0.93893,     0.93869,     0.93844,      0.9382,     0.93795,     0.93771,     0.93747,     0.93722,     0.93698,     0.93674,     0.93646,     0.93577,\n",
       "            0.93508,     0.93438,     0.93369,     0.93299,      0.9323,     0.93161,     0.93091,     0.93022,     0.92952,     0.92883,     0.92814,     0.92744,     0.92675,     0.92605,     0.92536,     0.92466,     0.92397,     0.92328,     0.92258,     0.92189,     0.92119,     0.92063,     0.92063,\n",
       "            0.92063,     0.92063,     0.92063,     0.92063,     0.92063,     0.92063,     0.92063,     0.92063,     0.92063,     0.92063,     0.92063,     0.92063,     0.92063,     0.92063,     0.92063,     0.92063,     0.92063,     0.92063,     0.92063,     0.92063,     0.92063,     0.92063,     0.92063,\n",
       "            0.92063,     0.92063,     0.92063,     0.92063,     0.92063,     0.92063,     0.92063,     0.92063,     0.92063,     0.92063,     0.92063,     0.92063,     0.92063,     0.92063,     0.92063,     0.92063,     0.92063,     0.92063,     0.92063,     0.92063,     0.92063,     0.92063,     0.92063,\n",
       "            0.92063,     0.92063,     0.92063,     0.92063,     0.92063,     0.92063,     0.92063,     0.92063,     0.92063,     0.92063,     0.92063,     0.92063,     0.92063,     0.92063,     0.92063,     0.92063,     0.92063,     0.92063,     0.92063,     0.92063,     0.92063,     0.92063,     0.92063,\n",
       "            0.92063,     0.92063,     0.92063,     0.92063,     0.92063,     0.92063,     0.92063,     0.92063,     0.92063,     0.92063,     0.92063,     0.92063,     0.92063,     0.92063,     0.92063,     0.92063,     0.92063,     0.92063,     0.92063,     0.92063,     0.92063,     0.92063,     0.92063,\n",
       "            0.92063,     0.92063,     0.92063,     0.92063,     0.92063,     0.92063,     0.92063,     0.92063,     0.92063,     0.92063,     0.92063,     0.92063,     0.92063,     0.92063,     0.92063,     0.92063,     0.92063,     0.92063,     0.92063,     0.92063,     0.92063,     0.92063,     0.92063,\n",
       "            0.92063,     0.92063,     0.92063,     0.92063,     0.92063,     0.92063,     0.92063,     0.92063,     0.92063,     0.92063,     0.92063,     0.92063,     0.92063,     0.92063,     0.92063,     0.92063,     0.92063,     0.92063,     0.92063,     0.92063,     0.92063,     0.92063,     0.92063,\n",
       "            0.92063,     0.92063,     0.92063,     0.92063,     0.92063,     0.92063,     0.92063,     0.92063,     0.92063,     0.92063,     0.92063,     0.92063,     0.92063,     0.92063,     0.92063,     0.92063,     0.92063,     0.92063,     0.92063,     0.92063,     0.92045,     0.92008,     0.91971,\n",
       "            0.91933,     0.91896,     0.91859,     0.91822,     0.91785,     0.91747,      0.9171,     0.91673,     0.91636,     0.91598,     0.91561,     0.91524,     0.91487,     0.91449,     0.91412,     0.91375,     0.91338,       0.913,     0.91263,     0.91226,     0.91189,     0.91151,     0.91114,\n",
       "            0.91077,      0.9104,     0.91002,     0.90965,     0.90928,     0.90891,     0.90853,     0.90816,     0.90779,     0.90742,     0.90704,     0.90667,      0.9063,     0.90593,     0.90555,     0.90518,     0.90481,     0.90476,     0.90476,     0.90476,     0.90476,     0.90476,     0.90476,\n",
       "            0.90476,     0.90476,     0.90476,     0.90476,     0.90476,     0.90476,     0.90476,     0.90476,     0.90476,     0.90476,     0.90476,     0.90476,     0.90476,     0.90476,     0.90442,     0.90401,     0.90359,     0.90318,     0.90276,     0.90234,     0.90193,     0.90151,     0.90109,\n",
       "            0.90068,     0.90026,     0.89984,     0.89943,     0.89901,      0.8986,     0.89818,     0.89776,     0.89735,     0.89693,     0.89651,      0.8961,     0.89568,     0.89526,     0.89485,     0.89443,     0.89402,      0.8936,     0.89318,     0.89277,     0.89235,     0.89193,     0.89152,\n",
       "             0.8911,     0.89068,     0.89027,     0.88985,     0.88943,     0.88902,     0.88862,     0.88822,     0.88783,     0.88744,     0.88704,     0.88665,     0.88626,     0.88587,     0.88547,     0.88508,     0.88469,     0.88429,      0.8839,     0.88351,     0.88311,     0.88272,     0.88233,\n",
       "            0.88193,     0.88154,     0.88115,     0.88075,     0.88036,     0.87997,     0.87957,     0.87918,     0.87879,     0.87839,       0.878,     0.87761,     0.87721,     0.87682,     0.87643,     0.87603,     0.87564,     0.87525,     0.87485,     0.87446,     0.87407,     0.87367,     0.87328,\n",
       "            0.87224,     0.86985,     0.86746,     0.86507,     0.86268,     0.86029,      0.8579,     0.85619,      0.8548,     0.85341,     0.85202,     0.85063,     0.84924,     0.84785,     0.84646,     0.84506,     0.84367,     0.84228,     0.84031,      0.8368,     0.83329,     0.82978,     0.82627,\n",
       "            0.82493,      0.8243,     0.82367,     0.82304,     0.82241,     0.82179,     0.82116,     0.82053,      0.8199,     0.81927,     0.81865,     0.81802,     0.81739,     0.81676,     0.81613,     0.81551,     0.81488,     0.81425,     0.81362,     0.81299,     0.81237,     0.81174,     0.81111,\n",
       "            0.81048,     0.80985,       0.808,     0.80479,     0.80157,     0.79836,     0.79515,     0.79213,     0.78929,     0.78645,     0.78361,     0.78076,     0.77792,     0.77693,     0.77604,     0.77515,     0.77426,     0.77337,     0.77248,     0.77158,     0.77069,      0.7698,     0.76891,\n",
       "            0.76802,     0.76713,     0.76624,     0.76535,     0.76445,     0.76356,     0.76267,     0.76181,      0.7611,     0.76039,     0.75968,     0.75897,     0.75826,     0.75755,     0.75684,     0.75613,     0.75543,     0.75472,     0.75401,      0.7533,     0.75259,     0.75188,     0.75117,\n",
       "            0.75046,     0.74975,     0.74905,     0.74834,     0.74763,     0.74692,     0.74621,     0.74487,     0.74332,     0.74177,     0.74022,     0.73867,     0.73712,     0.73557,     0.73402,     0.73246,     0.73091,     0.72898,     0.72668,     0.72437,     0.72207,     0.71977,     0.71747,\n",
       "            0.71517,     0.70514,     0.69581,     0.69104,     0.68628,     0.68198,     0.67939,     0.67679,      0.6742,      0.6716,     0.66901,     0.66584,     0.65745,     0.64838,     0.63669,     0.59962,     0.59437,     0.58911,      0.5829,     0.57619,     0.56758,     0.55447,     0.54223,\n",
       "            0.52958,      0.5214,       0.517,      0.5126,      0.5082,     0.48028,     0.46589,     0.41804,     0.40863,     0.40351,     0.39839,     0.37882,     0.31618,     0.30911,     0.30205,     0.29594,     0.28989,     0.27982,     0.26747,      0.2625,     0.25754,     0.24686,     0.22754,\n",
       "            0.20043,     0.15111,     0.11965,     0.10618,    0.082194,    0.045367,    0.036222,    0.019925,           0,           0,           0]]), 'Confidence', 'Recall']]\n",
       "fitness: 0.8976804050097545\n",
       "keys: ['metrics/precision(B)', 'metrics/recall(B)', 'metrics/mAP50(B)', 'metrics/mAP50-95(B)']\n",
       "maps: array([    0.88773,     0.88773,     0.88773,     0.88773,     0.88773,     0.88773,     0.88773,     0.88773,     0.88773,     0.88773])\n",
       "names: {0: 'Mont_Need_Tamp', 1: 'Mont_Fin', 2: 'Mont_With_Tamp', 3: 'Mot_P1', 4: 'Mot_P2', 5: 'Mont_P3', 6: 'Mont_P4', 7: 'Mont_P5', 8: 'Mont_P6', 9: 'Mont_P7'}\n",
       "plot: True\n",
       "results_dict: {'metrics/precision(B)': 0.9232495315455348, 'metrics/recall(B)': 0.9841269841269841, 'metrics/mAP50(B)': 0.9872674860989171, 'metrics/mAP50-95(B)': 0.8877262848887364, 'fitness': 0.8976804050097545}\n",
       "save_dir: WindowsPath('runs/detect/train2')\n",
       "speed: {'preprocess': 4.601114326053196, 'inference': 104.48746548758612, 'loss': 0.0, 'postprocess': 0.5909270710415311}\n",
       "task: 'detect'"
      ]
     },
     "execution_count": 7,
     "metadata": {},
     "output_type": "execute_result"
    }
   ],
   "source": [
    "model.train(data='custom_dataset.yaml',\n",
    "            epochs=30,\n",
    "            patience=8,\n",
    "            batch=-1,  # number of images per batch (-1 for AutoBatch)  \n",
    "            imgsz=640,\n",
    "            workers=6,\n",
    "            pretrained=True,\n",
    "            resume=False,  # resume training from last checkpoint\n",
    "            single_cls=True,  # Whether all classes will be the same (just one class)\n",
    "            project='runs/detect',  # Default = /home/{user}/Documents/ultralytics/runs\n",
    "            box=7.5,  # More recall, better IoU, less precission, \n",
    "            cls=0.5,  # Bbox class better\n",
    "            dfl=1.5,  # Distribution Focal Loss. Better bbox boundaries\n",
    "            val=True,\n",
    "            # Augmentations\n",
    "            degrees=0.3,\n",
    "            hsv_s=0.3,\n",
    "            hsv_v=0.3,\n",
    "            scale=0.5,\n",
    "            fliplr=0.5\n",
    "            )"
   ]
  },
  {
   "cell_type": "markdown",
   "id": "de83ff59-b0aa-471a-bde7-4801d5f099b3",
   "metadata": {},
   "source": [
    "### Reduzir tamanho do checkpoint (somente se não chegou até o fim do treinamento)\n",
    "\n",
    "```\n",
    "model['epoch'] = -1\n",
    "model['best_fitness'] = None\n",
    "model['optimizer'] = None\n",
    "model['updates'] = None\n",
    "model['model'] = model['ema']\n",
    "model['ema'] = None\n",
    "model.half()\n",
    "```"
   ]
  },
  {
   "cell_type": "code",
   "execution_count": 8,
   "id": "685bac76-1fc8-4a43-8275-43c890e39d69",
   "metadata": {},
   "outputs": [],
   "source": [
    "#from ultralytics.utils.torch_utils import strip_optimizer\n",
    "#strip_optimizer('runs/detect/train/weights/best.pt', 'runs/detect/train/weights/best.pt')"
   ]
  },
  {
   "cell_type": "markdown",
   "id": "fcc77e72-5efc-4805-afaf-f66bef99e291",
   "metadata": {},
   "source": [
    "## Validação e Teste\n",
    "Todos comandos e instruções: https://docs.ultralytics.com/modes/val/#arguments"
   ]
  },
  {
   "cell_type": "code",
   "execution_count": 9,
   "id": "82c27078-ec28-4c3c-b76d-ba7a987f864f",
   "metadata": {},
   "outputs": [],
   "source": [
    "model = YOLO('runs/detect/train/weights/best.pt')"
   ]
  },
  {
   "cell_type": "code",
   "execution_count": 10,
   "id": "6764c0e9-ed47-400d-b823-3613cdfd270e",
   "metadata": {
    "scrolled": true
   },
   "outputs": [
    {
     "name": "stdout",
     "output_type": "stream",
     "text": [
      "WARNING  'save_hybrid=True' will append ground truth to predictions for autolabelling.\n",
      "WARNING  'save_hybrid=True' will cause incorrect mAP.\n",
      "\n",
      "Ultralytics YOLOv8.2.91  Python-3.12.5 torch-2.3.0+cpu CPU (AMD Ryzen 5 PRO 5650GE with Radeon Graphics)\n",
      "Model summary (fused): 218 layers, 25,845,550 parameters, 0 gradients, 78.7 GFLOPs\n"
     ]
    },
    {
     "ename": "FileNotFoundError",
     "evalue": "\u001b[34m\u001b[1mval: \u001b[0mError loading data from C:\\Users\\gustavonc\\Downloads\\treinar_yolov8-main\\data\\box\\test\nSee https://docs.ultralytics.com/datasets for dataset formatting guidance.",
     "output_type": "error",
     "traceback": [
      "\u001b[1;31m---------------------------------------------------------------------------\u001b[0m",
      "\u001b[1;31mFileNotFoundError\u001b[0m                         Traceback (most recent call last)",
      "File \u001b[1;32mc:\\Users\\gustavonc\\AppData\\Local\\Programs\\Python\\Python312\\Lib\\site-packages\\ultralytics\\data\\base.py:115\u001b[0m, in \u001b[0;36mBaseDataset.get_img_files\u001b[1;34m(self, img_path)\u001b[0m\n\u001b[0;32m    113\u001b[0m             \u001b[38;5;66;03m# F += [p.parent / x.lstrip(os.sep) for x in t]  # local to global path (pathlib)\u001b[39;00m\n\u001b[0;32m    114\u001b[0m     \u001b[38;5;28;01melse\u001b[39;00m:\n\u001b[1;32m--> 115\u001b[0m         \u001b[38;5;28;01mraise\u001b[39;00m \u001b[38;5;167;01mFileNotFoundError\u001b[39;00m(\u001b[38;5;124mf\u001b[39m\u001b[38;5;124m\"\u001b[39m\u001b[38;5;132;01m{\u001b[39;00m\u001b[38;5;28mself\u001b[39m\u001b[38;5;241m.\u001b[39mprefix\u001b[38;5;132;01m}\u001b[39;00m\u001b[38;5;132;01m{\u001b[39;00mp\u001b[38;5;132;01m}\u001b[39;00m\u001b[38;5;124m does not exist\u001b[39m\u001b[38;5;124m\"\u001b[39m)\n\u001b[0;32m    116\u001b[0m im_files \u001b[38;5;241m=\u001b[39m \u001b[38;5;28msorted\u001b[39m(x\u001b[38;5;241m.\u001b[39mreplace(\u001b[38;5;124m\"\u001b[39m\u001b[38;5;124m/\u001b[39m\u001b[38;5;124m\"\u001b[39m, os\u001b[38;5;241m.\u001b[39msep) \u001b[38;5;28;01mfor\u001b[39;00m x \u001b[38;5;129;01min\u001b[39;00m f \u001b[38;5;28;01mif\u001b[39;00m x\u001b[38;5;241m.\u001b[39msplit(\u001b[38;5;124m\"\u001b[39m\u001b[38;5;124m.\u001b[39m\u001b[38;5;124m\"\u001b[39m)[\u001b[38;5;241m-\u001b[39m\u001b[38;5;241m1\u001b[39m]\u001b[38;5;241m.\u001b[39mlower() \u001b[38;5;129;01min\u001b[39;00m IMG_FORMATS)\n",
      "\u001b[1;31mFileNotFoundError\u001b[0m: \u001b[34m\u001b[1mval: \u001b[0mC:\\Users\\gustavonc\\Downloads\\treinar_yolov8-main\\data\\box\\test does not exist",
      "\nThe above exception was the direct cause of the following exception:\n",
      "\u001b[1;31mFileNotFoundError\u001b[0m                         Traceback (most recent call last)",
      "Cell \u001b[1;32mIn[10], line 1\u001b[0m\n\u001b[1;32m----> 1\u001b[0m results \u001b[38;5;241m=\u001b[39m \u001b[43mmodel\u001b[49m\u001b[38;5;241;43m.\u001b[39;49m\u001b[43mval\u001b[49m\u001b[43m(\u001b[49m\u001b[43mproject\u001b[49m\u001b[38;5;241;43m=\u001b[39;49m\u001b[38;5;124;43m'\u001b[39;49m\u001b[38;5;124;43mruns/detect\u001b[39;49m\u001b[38;5;124;43m'\u001b[39;49m\u001b[43m,\u001b[49m\n\u001b[0;32m      2\u001b[0m \u001b[43m                    \u001b[49m\u001b[43mimgsz\u001b[49m\u001b[38;5;241;43m=\u001b[39;49m\u001b[38;5;241;43m640\u001b[39;49m\u001b[43m,\u001b[49m\n\u001b[0;32m      3\u001b[0m \u001b[43m                    \u001b[49m\u001b[43mbatch\u001b[49m\u001b[38;5;241;43m=\u001b[39;49m\u001b[38;5;241;43m8\u001b[39;49m\u001b[43m,\u001b[49m\n\u001b[0;32m      4\u001b[0m \u001b[43m                    \u001b[49m\u001b[43mconf\u001b[49m\u001b[38;5;241;43m=\u001b[39;49m\u001b[38;5;241;43m0.001\u001b[39;49m\u001b[43m,\u001b[49m\n\u001b[0;32m      5\u001b[0m \u001b[43m                    \u001b[49m\u001b[43miou\u001b[49m\u001b[38;5;241;43m=\u001b[39;49m\u001b[38;5;241;43m0.7\u001b[39;49m\u001b[43m,\u001b[49m\u001b[43m  \u001b[49m\u001b[38;5;66;43;03m# Non-Maximum Supression (NMS)\u001b[39;49;00m\n\u001b[0;32m      6\u001b[0m \u001b[43m                    \u001b[49m\u001b[43msave_json\u001b[49m\u001b[38;5;241;43m=\u001b[39;49m\u001b[38;5;28;43;01mTrue\u001b[39;49;00m\u001b[43m,\u001b[49m\u001b[43m  \u001b[49m\u001b[38;5;66;43;03m# Save to JSON {image_id, cls, bbox, conf} of each image in dataset\u001b[39;49;00m\n\u001b[0;32m      7\u001b[0m \u001b[43m                    \u001b[49m\u001b[43msave_hybrid\u001b[49m\u001b[38;5;241;43m=\u001b[39;49m\u001b[38;5;28;43;01mTrue\u001b[39;49;00m\u001b[43m,\u001b[49m\u001b[43m  \u001b[49m\u001b[38;5;66;43;03m# Bounding box labels + inference on the output image (Ultralytics 8.0.178 = results are wrong when this argmunent is True)\u001b[39;49;00m\n\u001b[0;32m      8\u001b[0m \u001b[43m                    \u001b[49m\u001b[43msplit\u001b[49m\u001b[38;5;241;43m=\u001b[39;49m\u001b[38;5;124;43m'\u001b[39;49m\u001b[38;5;124;43mtest\u001b[39;49m\u001b[38;5;124;43m'\u001b[39;49m\u001b[43m)\u001b[49m  \u001b[38;5;66;03m# train, val or test\u001b[39;00m\n",
      "File \u001b[1;32mc:\\Users\\gustavonc\\AppData\\Local\\Programs\\Python\\Python312\\Lib\\site-packages\\ultralytics\\engine\\model.py:648\u001b[0m, in \u001b[0;36mModel.val\u001b[1;34m(self, validator, **kwargs)\u001b[0m\n\u001b[0;32m    645\u001b[0m args \u001b[38;5;241m=\u001b[39m {\u001b[38;5;241m*\u001b[39m\u001b[38;5;241m*\u001b[39m\u001b[38;5;28mself\u001b[39m\u001b[38;5;241m.\u001b[39moverrides, \u001b[38;5;241m*\u001b[39m\u001b[38;5;241m*\u001b[39mcustom, \u001b[38;5;241m*\u001b[39m\u001b[38;5;241m*\u001b[39mkwargs, \u001b[38;5;124m\"\u001b[39m\u001b[38;5;124mmode\u001b[39m\u001b[38;5;124m\"\u001b[39m: \u001b[38;5;124m\"\u001b[39m\u001b[38;5;124mval\u001b[39m\u001b[38;5;124m\"\u001b[39m}  \u001b[38;5;66;03m# highest priority args on the right\u001b[39;00m\n\u001b[0;32m    647\u001b[0m validator \u001b[38;5;241m=\u001b[39m (validator \u001b[38;5;129;01mor\u001b[39;00m \u001b[38;5;28mself\u001b[39m\u001b[38;5;241m.\u001b[39m_smart_load(\u001b[38;5;124m\"\u001b[39m\u001b[38;5;124mvalidator\u001b[39m\u001b[38;5;124m\"\u001b[39m))(args\u001b[38;5;241m=\u001b[39margs, _callbacks\u001b[38;5;241m=\u001b[39m\u001b[38;5;28mself\u001b[39m\u001b[38;5;241m.\u001b[39mcallbacks)\n\u001b[1;32m--> 648\u001b[0m \u001b[43mvalidator\u001b[49m\u001b[43m(\u001b[49m\u001b[43mmodel\u001b[49m\u001b[38;5;241;43m=\u001b[39;49m\u001b[38;5;28;43mself\u001b[39;49m\u001b[38;5;241;43m.\u001b[39;49m\u001b[43mmodel\u001b[49m\u001b[43m)\u001b[49m\n\u001b[0;32m    649\u001b[0m \u001b[38;5;28mself\u001b[39m\u001b[38;5;241m.\u001b[39mmetrics \u001b[38;5;241m=\u001b[39m validator\u001b[38;5;241m.\u001b[39mmetrics\n\u001b[0;32m    650\u001b[0m \u001b[38;5;28;01mreturn\u001b[39;00m validator\u001b[38;5;241m.\u001b[39mmetrics\n",
      "File \u001b[1;32mc:\\Users\\gustavonc\\AppData\\Local\\Programs\\Python\\Python312\\Lib\\site-packages\\torch\\utils\\_contextlib.py:115\u001b[0m, in \u001b[0;36mcontext_decorator.<locals>.decorate_context\u001b[1;34m(*args, **kwargs)\u001b[0m\n\u001b[0;32m    112\u001b[0m \u001b[38;5;129m@functools\u001b[39m\u001b[38;5;241m.\u001b[39mwraps(func)\n\u001b[0;32m    113\u001b[0m \u001b[38;5;28;01mdef\u001b[39;00m \u001b[38;5;21mdecorate_context\u001b[39m(\u001b[38;5;241m*\u001b[39margs, \u001b[38;5;241m*\u001b[39m\u001b[38;5;241m*\u001b[39mkwargs):\n\u001b[0;32m    114\u001b[0m     \u001b[38;5;28;01mwith\u001b[39;00m ctx_factory():\n\u001b[1;32m--> 115\u001b[0m         \u001b[38;5;28;01mreturn\u001b[39;00m \u001b[43mfunc\u001b[49m\u001b[43m(\u001b[49m\u001b[38;5;241;43m*\u001b[39;49m\u001b[43margs\u001b[49m\u001b[43m,\u001b[49m\u001b[43m \u001b[49m\u001b[38;5;241;43m*\u001b[39;49m\u001b[38;5;241;43m*\u001b[39;49m\u001b[43mkwargs\u001b[49m\u001b[43m)\u001b[49m\n",
      "File \u001b[1;32mc:\\Users\\gustavonc\\AppData\\Local\\Programs\\Python\\Python312\\Lib\\site-packages\\ultralytics\\engine\\validator.py:152\u001b[0m, in \u001b[0;36mBaseValidator.__call__\u001b[1;34m(self, trainer, model)\u001b[0m\n\u001b[0;32m    150\u001b[0m     \u001b[38;5;28mself\u001b[39m\u001b[38;5;241m.\u001b[39margs\u001b[38;5;241m.\u001b[39mrect \u001b[38;5;241m=\u001b[39m \u001b[38;5;28;01mFalse\u001b[39;00m\n\u001b[0;32m    151\u001b[0m \u001b[38;5;28mself\u001b[39m\u001b[38;5;241m.\u001b[39mstride \u001b[38;5;241m=\u001b[39m model\u001b[38;5;241m.\u001b[39mstride  \u001b[38;5;66;03m# used in get_dataloader() for padding\u001b[39;00m\n\u001b[1;32m--> 152\u001b[0m \u001b[38;5;28mself\u001b[39m\u001b[38;5;241m.\u001b[39mdataloader \u001b[38;5;241m=\u001b[39m \u001b[38;5;28mself\u001b[39m\u001b[38;5;241m.\u001b[39mdataloader \u001b[38;5;129;01mor\u001b[39;00m \u001b[38;5;28;43mself\u001b[39;49m\u001b[38;5;241;43m.\u001b[39;49m\u001b[43mget_dataloader\u001b[49m\u001b[43m(\u001b[49m\u001b[38;5;28;43mself\u001b[39;49m\u001b[38;5;241;43m.\u001b[39;49m\u001b[43mdata\u001b[49m\u001b[38;5;241;43m.\u001b[39;49m\u001b[43mget\u001b[49m\u001b[43m(\u001b[49m\u001b[38;5;28;43mself\u001b[39;49m\u001b[38;5;241;43m.\u001b[39;49m\u001b[43margs\u001b[49m\u001b[38;5;241;43m.\u001b[39;49m\u001b[43msplit\u001b[49m\u001b[43m)\u001b[49m\u001b[43m,\u001b[49m\u001b[43m \u001b[49m\u001b[38;5;28;43mself\u001b[39;49m\u001b[38;5;241;43m.\u001b[39;49m\u001b[43margs\u001b[49m\u001b[38;5;241;43m.\u001b[39;49m\u001b[43mbatch\u001b[49m\u001b[43m)\u001b[49m\n\u001b[0;32m    154\u001b[0m model\u001b[38;5;241m.\u001b[39meval()\n\u001b[0;32m    155\u001b[0m model\u001b[38;5;241m.\u001b[39mwarmup(imgsz\u001b[38;5;241m=\u001b[39m(\u001b[38;5;241m1\u001b[39m \u001b[38;5;28;01mif\u001b[39;00m pt \u001b[38;5;28;01melse\u001b[39;00m \u001b[38;5;28mself\u001b[39m\u001b[38;5;241m.\u001b[39margs\u001b[38;5;241m.\u001b[39mbatch, \u001b[38;5;241m3\u001b[39m, imgsz, imgsz))  \u001b[38;5;66;03m# warmup\u001b[39;00m\n",
      "File \u001b[1;32mc:\\Users\\gustavonc\\AppData\\Local\\Programs\\Python\\Python312\\Lib\\site-packages\\ultralytics\\models\\yolo\\detect\\val.py:243\u001b[0m, in \u001b[0;36mDetectionValidator.get_dataloader\u001b[1;34m(self, dataset_path, batch_size)\u001b[0m\n\u001b[0;32m    241\u001b[0m \u001b[38;5;28;01mdef\u001b[39;00m \u001b[38;5;21mget_dataloader\u001b[39m(\u001b[38;5;28mself\u001b[39m, dataset_path, batch_size):\n\u001b[0;32m    242\u001b[0m \u001b[38;5;250m    \u001b[39m\u001b[38;5;124;03m\"\"\"Construct and return dataloader.\"\"\"\u001b[39;00m\n\u001b[1;32m--> 243\u001b[0m     dataset \u001b[38;5;241m=\u001b[39m \u001b[38;5;28;43mself\u001b[39;49m\u001b[38;5;241;43m.\u001b[39;49m\u001b[43mbuild_dataset\u001b[49m\u001b[43m(\u001b[49m\u001b[43mdataset_path\u001b[49m\u001b[43m,\u001b[49m\u001b[43m \u001b[49m\u001b[43mbatch\u001b[49m\u001b[38;5;241;43m=\u001b[39;49m\u001b[43mbatch_size\u001b[49m\u001b[43m,\u001b[49m\u001b[43m \u001b[49m\u001b[43mmode\u001b[49m\u001b[38;5;241;43m=\u001b[39;49m\u001b[38;5;124;43m\"\u001b[39;49m\u001b[38;5;124;43mval\u001b[39;49m\u001b[38;5;124;43m\"\u001b[39;49m\u001b[43m)\u001b[49m\n\u001b[0;32m    244\u001b[0m     \u001b[38;5;28;01mreturn\u001b[39;00m build_dataloader(dataset, batch_size, \u001b[38;5;28mself\u001b[39m\u001b[38;5;241m.\u001b[39margs\u001b[38;5;241m.\u001b[39mworkers, shuffle\u001b[38;5;241m=\u001b[39m\u001b[38;5;28;01mFalse\u001b[39;00m, rank\u001b[38;5;241m=\u001b[39m\u001b[38;5;241m-\u001b[39m\u001b[38;5;241m1\u001b[39m)\n",
      "File \u001b[1;32mc:\\Users\\gustavonc\\AppData\\Local\\Programs\\Python\\Python312\\Lib\\site-packages\\ultralytics\\models\\yolo\\detect\\val.py:239\u001b[0m, in \u001b[0;36mDetectionValidator.build_dataset\u001b[1;34m(self, img_path, mode, batch)\u001b[0m\n\u001b[0;32m    230\u001b[0m \u001b[38;5;28;01mdef\u001b[39;00m \u001b[38;5;21mbuild_dataset\u001b[39m(\u001b[38;5;28mself\u001b[39m, img_path, mode\u001b[38;5;241m=\u001b[39m\u001b[38;5;124m\"\u001b[39m\u001b[38;5;124mval\u001b[39m\u001b[38;5;124m\"\u001b[39m, batch\u001b[38;5;241m=\u001b[39m\u001b[38;5;28;01mNone\u001b[39;00m):\n\u001b[0;32m    231\u001b[0m \u001b[38;5;250m    \u001b[39m\u001b[38;5;124;03m\"\"\"\u001b[39;00m\n\u001b[0;32m    232\u001b[0m \u001b[38;5;124;03m    Build YOLO Dataset.\u001b[39;00m\n\u001b[0;32m    233\u001b[0m \n\u001b[1;32m   (...)\u001b[0m\n\u001b[0;32m    237\u001b[0m \u001b[38;5;124;03m        batch (int, optional): Size of batches, this is for `rect`. Defaults to None.\u001b[39;00m\n\u001b[0;32m    238\u001b[0m \u001b[38;5;124;03m    \"\"\"\u001b[39;00m\n\u001b[1;32m--> 239\u001b[0m     \u001b[38;5;28;01mreturn\u001b[39;00m \u001b[43mbuild_yolo_dataset\u001b[49m\u001b[43m(\u001b[49m\u001b[38;5;28;43mself\u001b[39;49m\u001b[38;5;241;43m.\u001b[39;49m\u001b[43margs\u001b[49m\u001b[43m,\u001b[49m\u001b[43m \u001b[49m\u001b[43mimg_path\u001b[49m\u001b[43m,\u001b[49m\u001b[43m \u001b[49m\u001b[43mbatch\u001b[49m\u001b[43m,\u001b[49m\u001b[43m \u001b[49m\u001b[38;5;28;43mself\u001b[39;49m\u001b[38;5;241;43m.\u001b[39;49m\u001b[43mdata\u001b[49m\u001b[43m,\u001b[49m\u001b[43m \u001b[49m\u001b[43mmode\u001b[49m\u001b[38;5;241;43m=\u001b[39;49m\u001b[43mmode\u001b[49m\u001b[43m,\u001b[49m\u001b[43m \u001b[49m\u001b[43mstride\u001b[49m\u001b[38;5;241;43m=\u001b[39;49m\u001b[38;5;28;43mself\u001b[39;49m\u001b[38;5;241;43m.\u001b[39;49m\u001b[43mstride\u001b[49m\u001b[43m)\u001b[49m\n",
      "File \u001b[1;32mc:\\Users\\gustavonc\\AppData\\Local\\Programs\\Python\\Python312\\Lib\\site-packages\\ultralytics\\data\\build.py:87\u001b[0m, in \u001b[0;36mbuild_yolo_dataset\u001b[1;34m(cfg, img_path, batch, data, mode, rect, stride, multi_modal)\u001b[0m\n\u001b[0;32m     85\u001b[0m \u001b[38;5;250m\u001b[39m\u001b[38;5;124;03m\"\"\"Build YOLO Dataset.\"\"\"\u001b[39;00m\n\u001b[0;32m     86\u001b[0m dataset \u001b[38;5;241m=\u001b[39m YOLOMultiModalDataset \u001b[38;5;28;01mif\u001b[39;00m multi_modal \u001b[38;5;28;01melse\u001b[39;00m YOLODataset\n\u001b[1;32m---> 87\u001b[0m \u001b[38;5;28;01mreturn\u001b[39;00m \u001b[43mdataset\u001b[49m\u001b[43m(\u001b[49m\n\u001b[0;32m     88\u001b[0m \u001b[43m    \u001b[49m\u001b[43mimg_path\u001b[49m\u001b[38;5;241;43m=\u001b[39;49m\u001b[43mimg_path\u001b[49m\u001b[43m,\u001b[49m\n\u001b[0;32m     89\u001b[0m \u001b[43m    \u001b[49m\u001b[43mimgsz\u001b[49m\u001b[38;5;241;43m=\u001b[39;49m\u001b[43mcfg\u001b[49m\u001b[38;5;241;43m.\u001b[39;49m\u001b[43mimgsz\u001b[49m\u001b[43m,\u001b[49m\n\u001b[0;32m     90\u001b[0m \u001b[43m    \u001b[49m\u001b[43mbatch_size\u001b[49m\u001b[38;5;241;43m=\u001b[39;49m\u001b[43mbatch\u001b[49m\u001b[43m,\u001b[49m\n\u001b[0;32m     91\u001b[0m \u001b[43m    \u001b[49m\u001b[43maugment\u001b[49m\u001b[38;5;241;43m=\u001b[39;49m\u001b[43mmode\u001b[49m\u001b[43m \u001b[49m\u001b[38;5;241;43m==\u001b[39;49m\u001b[43m \u001b[49m\u001b[38;5;124;43m\"\u001b[39;49m\u001b[38;5;124;43mtrain\u001b[39;49m\u001b[38;5;124;43m\"\u001b[39;49m\u001b[43m,\u001b[49m\u001b[43m  \u001b[49m\u001b[38;5;66;43;03m# augmentation\u001b[39;49;00m\n\u001b[0;32m     92\u001b[0m \u001b[43m    \u001b[49m\u001b[43mhyp\u001b[49m\u001b[38;5;241;43m=\u001b[39;49m\u001b[43mcfg\u001b[49m\u001b[43m,\u001b[49m\u001b[43m  \u001b[49m\u001b[38;5;66;43;03m# TODO: probably add a get_hyps_from_cfg function\u001b[39;49;00m\n\u001b[0;32m     93\u001b[0m \u001b[43m    \u001b[49m\u001b[43mrect\u001b[49m\u001b[38;5;241;43m=\u001b[39;49m\u001b[43mcfg\u001b[49m\u001b[38;5;241;43m.\u001b[39;49m\u001b[43mrect\u001b[49m\u001b[43m \u001b[49m\u001b[38;5;129;43;01mor\u001b[39;49;00m\u001b[43m \u001b[49m\u001b[43mrect\u001b[49m\u001b[43m,\u001b[49m\u001b[43m  \u001b[49m\u001b[38;5;66;43;03m# rectangular batches\u001b[39;49;00m\n\u001b[0;32m     94\u001b[0m \u001b[43m    \u001b[49m\u001b[43mcache\u001b[49m\u001b[38;5;241;43m=\u001b[39;49m\u001b[43mcfg\u001b[49m\u001b[38;5;241;43m.\u001b[39;49m\u001b[43mcache\u001b[49m\u001b[43m \u001b[49m\u001b[38;5;129;43;01mor\u001b[39;49;00m\u001b[43m \u001b[49m\u001b[38;5;28;43;01mNone\u001b[39;49;00m\u001b[43m,\u001b[49m\n\u001b[0;32m     95\u001b[0m \u001b[43m    \u001b[49m\u001b[43msingle_cls\u001b[49m\u001b[38;5;241;43m=\u001b[39;49m\u001b[43mcfg\u001b[49m\u001b[38;5;241;43m.\u001b[39;49m\u001b[43msingle_cls\u001b[49m\u001b[43m \u001b[49m\u001b[38;5;129;43;01mor\u001b[39;49;00m\u001b[43m \u001b[49m\u001b[38;5;28;43;01mFalse\u001b[39;49;00m\u001b[43m,\u001b[49m\n\u001b[0;32m     96\u001b[0m \u001b[43m    \u001b[49m\u001b[43mstride\u001b[49m\u001b[38;5;241;43m=\u001b[39;49m\u001b[38;5;28;43mint\u001b[39;49m\u001b[43m(\u001b[49m\u001b[43mstride\u001b[49m\u001b[43m)\u001b[49m\u001b[43m,\u001b[49m\n\u001b[0;32m     97\u001b[0m \u001b[43m    \u001b[49m\u001b[43mpad\u001b[49m\u001b[38;5;241;43m=\u001b[39;49m\u001b[38;5;241;43m0.0\u001b[39;49m\u001b[43m \u001b[49m\u001b[38;5;28;43;01mif\u001b[39;49;00m\u001b[43m \u001b[49m\u001b[43mmode\u001b[49m\u001b[43m \u001b[49m\u001b[38;5;241;43m==\u001b[39;49m\u001b[43m \u001b[49m\u001b[38;5;124;43m\"\u001b[39;49m\u001b[38;5;124;43mtrain\u001b[39;49m\u001b[38;5;124;43m\"\u001b[39;49m\u001b[43m \u001b[49m\u001b[38;5;28;43;01melse\u001b[39;49;00m\u001b[43m \u001b[49m\u001b[38;5;241;43m0.5\u001b[39;49m\u001b[43m,\u001b[49m\n\u001b[0;32m     98\u001b[0m \u001b[43m    \u001b[49m\u001b[43mprefix\u001b[49m\u001b[38;5;241;43m=\u001b[39;49m\u001b[43mcolorstr\u001b[49m\u001b[43m(\u001b[49m\u001b[38;5;124;43mf\u001b[39;49m\u001b[38;5;124;43m\"\u001b[39;49m\u001b[38;5;132;43;01m{\u001b[39;49;00m\u001b[43mmode\u001b[49m\u001b[38;5;132;43;01m}\u001b[39;49;00m\u001b[38;5;124;43m: \u001b[39;49m\u001b[38;5;124;43m\"\u001b[39;49m\u001b[43m)\u001b[49m\u001b[43m,\u001b[49m\n\u001b[0;32m     99\u001b[0m \u001b[43m    \u001b[49m\u001b[43mtask\u001b[49m\u001b[38;5;241;43m=\u001b[39;49m\u001b[43mcfg\u001b[49m\u001b[38;5;241;43m.\u001b[39;49m\u001b[43mtask\u001b[49m\u001b[43m,\u001b[49m\n\u001b[0;32m    100\u001b[0m \u001b[43m    \u001b[49m\u001b[43mclasses\u001b[49m\u001b[38;5;241;43m=\u001b[39;49m\u001b[43mcfg\u001b[49m\u001b[38;5;241;43m.\u001b[39;49m\u001b[43mclasses\u001b[49m\u001b[43m,\u001b[49m\n\u001b[0;32m    101\u001b[0m \u001b[43m    \u001b[49m\u001b[43mdata\u001b[49m\u001b[38;5;241;43m=\u001b[39;49m\u001b[43mdata\u001b[49m\u001b[43m,\u001b[49m\n\u001b[0;32m    102\u001b[0m \u001b[43m    \u001b[49m\u001b[43mfraction\u001b[49m\u001b[38;5;241;43m=\u001b[39;49m\u001b[43mcfg\u001b[49m\u001b[38;5;241;43m.\u001b[39;49m\u001b[43mfraction\u001b[49m\u001b[43m \u001b[49m\u001b[38;5;28;43;01mif\u001b[39;49;00m\u001b[43m \u001b[49m\u001b[43mmode\u001b[49m\u001b[43m \u001b[49m\u001b[38;5;241;43m==\u001b[39;49m\u001b[43m \u001b[49m\u001b[38;5;124;43m\"\u001b[39;49m\u001b[38;5;124;43mtrain\u001b[39;49m\u001b[38;5;124;43m\"\u001b[39;49m\u001b[43m \u001b[49m\u001b[38;5;28;43;01melse\u001b[39;49;00m\u001b[43m \u001b[49m\u001b[38;5;241;43m1.0\u001b[39;49m\u001b[43m,\u001b[49m\n\u001b[0;32m    103\u001b[0m \u001b[43m\u001b[49m\u001b[43m)\u001b[49m\n",
      "File \u001b[1;32mc:\\Users\\gustavonc\\AppData\\Local\\Programs\\Python\\Python312\\Lib\\site-packages\\ultralytics\\data\\dataset.py:65\u001b[0m, in \u001b[0;36mYOLODataset.__init__\u001b[1;34m(self, data, task, *args, **kwargs)\u001b[0m\n\u001b[0;32m     63\u001b[0m \u001b[38;5;28mself\u001b[39m\u001b[38;5;241m.\u001b[39mdata \u001b[38;5;241m=\u001b[39m data\n\u001b[0;32m     64\u001b[0m \u001b[38;5;28;01massert\u001b[39;00m \u001b[38;5;129;01mnot\u001b[39;00m (\u001b[38;5;28mself\u001b[39m\u001b[38;5;241m.\u001b[39muse_segments \u001b[38;5;129;01mand\u001b[39;00m \u001b[38;5;28mself\u001b[39m\u001b[38;5;241m.\u001b[39muse_keypoints), \u001b[38;5;124m\"\u001b[39m\u001b[38;5;124mCan not use both segments and keypoints.\u001b[39m\u001b[38;5;124m\"\u001b[39m\n\u001b[1;32m---> 65\u001b[0m \u001b[38;5;28;43msuper\u001b[39;49m\u001b[43m(\u001b[49m\u001b[43m)\u001b[49m\u001b[38;5;241;43m.\u001b[39;49m\u001b[38;5;21;43m__init__\u001b[39;49m\u001b[43m(\u001b[49m\u001b[38;5;241;43m*\u001b[39;49m\u001b[43margs\u001b[49m\u001b[43m,\u001b[49m\u001b[43m \u001b[49m\u001b[38;5;241;43m*\u001b[39;49m\u001b[38;5;241;43m*\u001b[39;49m\u001b[43mkwargs\u001b[49m\u001b[43m)\u001b[49m\n",
      "File \u001b[1;32mc:\\Users\\gustavonc\\AppData\\Local\\Programs\\Python\\Python312\\Lib\\site-packages\\ultralytics\\data\\base.py:73\u001b[0m, in \u001b[0;36mBaseDataset.__init__\u001b[1;34m(self, img_path, imgsz, cache, augment, hyp, prefix, rect, batch_size, stride, pad, single_cls, classes, fraction)\u001b[0m\n\u001b[0;32m     71\u001b[0m \u001b[38;5;28mself\u001b[39m\u001b[38;5;241m.\u001b[39mprefix \u001b[38;5;241m=\u001b[39m prefix\n\u001b[0;32m     72\u001b[0m \u001b[38;5;28mself\u001b[39m\u001b[38;5;241m.\u001b[39mfraction \u001b[38;5;241m=\u001b[39m fraction\n\u001b[1;32m---> 73\u001b[0m \u001b[38;5;28mself\u001b[39m\u001b[38;5;241m.\u001b[39mim_files \u001b[38;5;241m=\u001b[39m \u001b[38;5;28;43mself\u001b[39;49m\u001b[38;5;241;43m.\u001b[39;49m\u001b[43mget_img_files\u001b[49m\u001b[43m(\u001b[49m\u001b[38;5;28;43mself\u001b[39;49m\u001b[38;5;241;43m.\u001b[39;49m\u001b[43mimg_path\u001b[49m\u001b[43m)\u001b[49m\n\u001b[0;32m     74\u001b[0m \u001b[38;5;28mself\u001b[39m\u001b[38;5;241m.\u001b[39mlabels \u001b[38;5;241m=\u001b[39m \u001b[38;5;28mself\u001b[39m\u001b[38;5;241m.\u001b[39mget_labels()\n\u001b[0;32m     75\u001b[0m \u001b[38;5;28mself\u001b[39m\u001b[38;5;241m.\u001b[39mupdate_labels(include_class\u001b[38;5;241m=\u001b[39mclasses)  \u001b[38;5;66;03m# single_cls and include_class\u001b[39;00m\n",
      "File \u001b[1;32mc:\\Users\\gustavonc\\AppData\\Local\\Programs\\Python\\Python312\\Lib\\site-packages\\ultralytics\\data\\base.py:120\u001b[0m, in \u001b[0;36mBaseDataset.get_img_files\u001b[1;34m(self, img_path)\u001b[0m\n\u001b[0;32m    118\u001b[0m     \u001b[38;5;28;01massert\u001b[39;00m im_files, \u001b[38;5;124mf\u001b[39m\u001b[38;5;124m\"\u001b[39m\u001b[38;5;132;01m{\u001b[39;00m\u001b[38;5;28mself\u001b[39m\u001b[38;5;241m.\u001b[39mprefix\u001b[38;5;132;01m}\u001b[39;00m\u001b[38;5;124mNo images found in \u001b[39m\u001b[38;5;132;01m{\u001b[39;00mimg_path\u001b[38;5;132;01m}\u001b[39;00m\u001b[38;5;124m. \u001b[39m\u001b[38;5;132;01m{\u001b[39;00mFORMATS_HELP_MSG\u001b[38;5;132;01m}\u001b[39;00m\u001b[38;5;124m\"\u001b[39m\n\u001b[0;32m    119\u001b[0m \u001b[38;5;28;01mexcept\u001b[39;00m \u001b[38;5;167;01mException\u001b[39;00m \u001b[38;5;28;01mas\u001b[39;00m e:\n\u001b[1;32m--> 120\u001b[0m     \u001b[38;5;28;01mraise\u001b[39;00m \u001b[38;5;167;01mFileNotFoundError\u001b[39;00m(\u001b[38;5;124mf\u001b[39m\u001b[38;5;124m\"\u001b[39m\u001b[38;5;132;01m{\u001b[39;00m\u001b[38;5;28mself\u001b[39m\u001b[38;5;241m.\u001b[39mprefix\u001b[38;5;132;01m}\u001b[39;00m\u001b[38;5;124mError loading data from \u001b[39m\u001b[38;5;132;01m{\u001b[39;00mimg_path\u001b[38;5;132;01m}\u001b[39;00m\u001b[38;5;130;01m\\n\u001b[39;00m\u001b[38;5;132;01m{\u001b[39;00mHELP_URL\u001b[38;5;132;01m}\u001b[39;00m\u001b[38;5;124m\"\u001b[39m) \u001b[38;5;28;01mfrom\u001b[39;00m \u001b[38;5;21;01me\u001b[39;00m\n\u001b[0;32m    121\u001b[0m \u001b[38;5;28;01mif\u001b[39;00m \u001b[38;5;28mself\u001b[39m\u001b[38;5;241m.\u001b[39mfraction \u001b[38;5;241m<\u001b[39m \u001b[38;5;241m1\u001b[39m:\n\u001b[0;32m    122\u001b[0m     im_files \u001b[38;5;241m=\u001b[39m im_files[: \u001b[38;5;28mround\u001b[39m(\u001b[38;5;28mlen\u001b[39m(im_files) \u001b[38;5;241m*\u001b[39m \u001b[38;5;28mself\u001b[39m\u001b[38;5;241m.\u001b[39mfraction)]  \u001b[38;5;66;03m# retain a fraction of the dataset\u001b[39;00m\n",
      "\u001b[1;31mFileNotFoundError\u001b[0m: \u001b[34m\u001b[1mval: \u001b[0mError loading data from C:\\Users\\gustavonc\\Downloads\\treinar_yolov8-main\\data\\box\\test\nSee https://docs.ultralytics.com/datasets for dataset formatting guidance."
     ]
    }
   ],
   "source": [
    "results = model.val(project='runs/detect',\n",
    "                    imgsz=640,\n",
    "                    batch=8,\n",
    "                    conf=0.001,\n",
    "                    iou=0.7,  # Non-Maximum Supression (NMS)\n",
    "                    save_json=True,  # Save to JSON {image_id, cls, bbox, conf} of each image in dataset\n",
    "                    save_hybrid=True,  # Bounding box labels + inference on the output image (Ultralytics 8.0.178 = results are wrong when this argmunent is True)\n",
    "                    split='test')  # train, val or test"
   ]
  },
  {
   "cell_type": "code",
   "execution_count": null,
   "id": "4f846cb4-956a-46d8-8081-334ef7e33056",
   "metadata": {},
   "outputs": [],
   "source": [
    "results"
   ]
  },
  {
   "cell_type": "code",
   "execution_count": null,
   "id": "4ce9ec81-724d-434f-853e-9059328749c7",
   "metadata": {},
   "outputs": [],
   "source": [
    "results.box"
   ]
  },
  {
   "cell_type": "code",
   "execution_count": null,
   "id": "ce6a2edb-7cd8-437f-bdf0-aafe538972e2",
   "metadata": {},
   "outputs": [],
   "source": [
    "results.box.map50"
   ]
  },
  {
   "cell_type": "markdown",
   "id": "21579210-b5c7-4295-ae92-35733ea159fb",
   "metadata": {},
   "source": [
    "## Inferência\n",
    "\n",
    "Todos comandos e instruções: https://docs.ultralytics.com/modes/predict/"
   ]
  },
  {
   "cell_type": "code",
   "execution_count": null,
   "id": "03098558-28b6-4b8a-af90-d21ebd81d511",
   "metadata": {},
   "outputs": [],
   "source": [
    "model = YOLO('runs/detect/train/weights/best.pt')"
   ]
  },
  {
   "cell_type": "markdown",
   "id": "1ce907b0-9c48-4c10-9753-e820deebd5a7",
   "metadata": {},
   "source": [
    "### Imagem"
   ]
  },
  {
   "cell_type": "code",
   "execution_count": null,
   "id": "3295db07-2b31-48db-99b8-3792e7c03d40",
   "metadata": {},
   "outputs": [],
   "source": [
    "results_img = model.predict(source='teste.jpg',  # image or video; single value or a list; URL, PIL (RGB), CV2 (BGR), ...\n",
    "                        conf=0.25,\n",
    "                        iou=0.7,  # Non-Maximum Supression (NMS)\n",
    "                        imgsz=640,\n",
    "                        show=True,\n",
    "                        save=True,\n",
    "                        save_txt=True,  # Save bbox coordenation\n",
    "                        save_conf=True,  # save_txt must be True\n",
    "                        save_crop=True,\n",
    "                        project='runs/detect',\n",
    "                        stream=False  # Do inference now (False) or after (True)\n",
    "                        )"
   ]
  },
  {
   "cell_type": "code",
   "execution_count": null,
   "id": "7840ca4b-e557-48e7-9c89-3581f43fe8a2",
   "metadata": {},
   "outputs": [],
   "source": [
    "results_img"
   ]
  },
  {
   "cell_type": "markdown",
   "id": "874170ad-f433-4dab-9bb1-eddfe91e4aa4",
   "metadata": {},
   "source": [
    "- boxes == data - boxes deprecated e não deve ser utilizado\n",
    "- data: [x1, y1, x2, y2, conf, cls]\n",
    "- shape: [qtd_deteções, 6_colunas_valores]\n",
    "- id: [id1, id2, ...] - ID dos objetos que estão sendo detectados na tela. Utilizando pelo sistem de tracking quando ativado\n",
    "- is_track: Se está sendo utilizado algum sistem de tracking\n",
    "- xywh: [x_center, y_center, width, height] - Para ter o valor superior de x precisa realizar o seguinte cálculo: x_center - width/2\n",
    "- xywhn: Mesmo que xywh, porém normalizado pelo tamanho original da imagem\n",
    "- xyxy: [x1, y1, x2, y2] - Pontor superior esquerda e ponto inferior direito\n",
    "- xyxyn: Mesmo que xyxy, porém normalizado pelo tamanho original da imagem"
   ]
  },
  {
   "cell_type": "code",
   "execution_count": null,
   "id": "0060041c-f8ba-4a80-85a6-a4b6a5efb136",
   "metadata": {},
   "outputs": [],
   "source": [
    "results_img[0].boxes"
   ]
  },
  {
   "cell_type": "markdown",
   "id": "3a93418f-8fdc-423a-8886-871370d10b5a",
   "metadata": {},
   "source": [
    "### Vídeo"
   ]
  },
  {
   "cell_type": "markdown",
   "id": "e70bdb52-38e1-4aac-ab8b-0b347197528c",
   "metadata": {},
   "source": [
    "- \"Stream=False\": realiza inferência no vídeo completo e armazena todos os resultados em uma lista. Quanto maior o vídeo, maior o consumo de memória RAM para armazenar todos os resultados\n",
    "- \"stream=True\": cria um \"generator\". O que permite executar frame por frame em um loop, podendo inclusive fazer outras operações em tempo real, sem precisar aguardar que todo o vídeo seja processado. Assim como reduzir a utilização de memória RAM, já que os resultados do frame anterior podem ser eliminados."
   ]
  },
  {
   "cell_type": "code",
   "execution_count": null,
   "id": "5888af54-851f-474e-b0fe-b2151ac7a6b0",
   "metadata": {},
   "outputs": [],
   "source": [
    "# CAUTION: High memory consumption if \"stream=False\"\n",
    "results_video = model.predict(source='last.mp4',  # image or video; single value or a list; URL, PIL (RGB), CV2 (BGR), ...\n",
    "                        conf=0.25,\n",
    "                        iou=0.7,\n",
    "                        imgsz=640,\n",
    "                        show=False,\n",
    "                        save=True,\n",
    "                        save_txt=False,  # Save bbox coordination\n",
    "                        save_conf=False,  # save_txt must be True\n",
    "                        save_crop=False,\n",
    "                        # project='runs/detect',\n",
    "                        stream=True  # Do inference now (False) or after (True)\n",
    "                        )"
   ]
  },
  {
   "cell_type": "code",
   "execution_count": null,
   "id": "1f0aced2-9992-436b-b237-f45926826514",
   "metadata": {},
   "outputs": [],
   "source": [
    "results_video"
   ]
  },
  {
   "cell_type": "markdown",
   "id": "3682795c-7f09-4e72-b0a7-db1bc238912c",
   "metadata": {},
   "source": [
    "Permite executar frame por frame em um loop, podendo fazer outras operações em tempo real, sem precisar aguardar que todo o vídeo seja processado. Assim como reduzir a utilização de memória RAM, já que os resultados do frame anterior podem ser eliminados."
   ]
  },
  {
   "cell_type": "code",
   "execution_count": null,
   "id": "b51a4146-5ce7-405d-a1e4-dec980cfb277",
   "metadata": {
    "scrolled": true
   },
   "outputs": [],
   "source": [
    "for result in results_video:\n",
    "    # Do something with results...\n",
    "    pass\n",
    "    # boxes = result.boxes  # Boxes object for bbox outputs\n",
    "    # masks = result.masks  # Masks object for segmentation masks outputs\n",
    "    # keypoints = result.keypoints  # Keypoints object for pose outputs\n",
    "    # probs = result.probs  # Probs object for classification outputs"
   ]
  },
  {
   "cell_type": "markdown",
   "id": "017b89b1-d989-4801-bb1e-20966d54c9ef",
   "metadata": {},
   "source": [
    "### Crop objetos"
   ]
  },
  {
   "cell_type": "code",
   "execution_count": null,
   "id": "af5797d6-1649-45a2-b2cf-62ae4e4e1d62",
   "metadata": {},
   "outputs": [],
   "source": [
    "model = YOLO('runs/detect/train/weights/best.pt')"
   ]
  },
  {
   "cell_type": "code",
   "execution_count": null,
   "id": "3ca452e1-3b39-4a72-9a25-df5b2750e9e1",
   "metadata": {},
   "outputs": [],
   "source": [
    "from PIL import Image\n",
    "import numpy as np\n",
    "import cv2"
   ]
  },
  {
   "cell_type": "code",
   "execution_count": null,
   "id": "8571f9dd-fea3-4621-b798-2da73265437d",
   "metadata": {},
   "outputs": [],
   "source": [
    "img_pil = Image.open('img.jpg')\n",
    "img_pil"
   ]
  },
  {
   "cell_type": "code",
   "execution_count": null,
   "id": "bb62192e-71d0-4465-bca6-45111c45c9ac",
   "metadata": {},
   "outputs": [],
   "source": [
    "results_img_pil = model.predict(source=img_pil,  # image or video; single value or a list; URL, PIL (RGB), CV2 (BGR), ...\n",
    "                        conf=0.25,\n",
    "                        iou=0.7,\n",
    "                        imgsz=640,\n",
    "                        show=False,\n",
    "                        save=True,\n",
    "                        save_txt=True,  # Save bbox coordination\n",
    "                        save_conf=True,  # save_txt must be True\n",
    "                        save_crop=True,\n",
    "                        # project='runs/detect',\n",
    "                        stream=False  # Do inference now (False) or after (True)\n",
    "                        )"
   ]
  },
  {
   "cell_type": "code",
   "execution_count": null,
   "id": "c4c06f3a-0747-47d4-8a9f-75f4f137e2e4",
   "metadata": {},
   "outputs": [],
   "source": [
    "xyxy = results_img_pil[0].boxes.xyxy.cpu().numpy()\n",
    "xyxy"
   ]
  },
  {
   "cell_type": "code",
   "execution_count": null,
   "id": "259b6c9a-5246-433f-832e-0d043ee99b9a",
   "metadata": {},
   "outputs": [],
   "source": [
    "# Pillow\n",
    "img_pil.crop((xyxy[0][0], xyxy[0][1], xyxy[0][2], xyxy[0][3]))"
   ]
  },
  {
   "cell_type": "code",
   "execution_count": null,
   "id": "db9e16fb-1a7b-4c6d-8ea4-e987053b828e",
   "metadata": {},
   "outputs": [],
   "source": [
    "# Opencv\n",
    "img_cv = cv2.imread('img.jpg')\n",
    "\n",
    "results_img_cv2 = model.predict(source=img_cv,  # image or video; single value or a list; URL, PIL (RGB), CV2 (BGR), ...\n",
    "                        conf=0.25,\n",
    "                        iou=0.7,\n",
    "                        imgsz=640,\n",
    "                        show=False,\n",
    "                        save=False,\n",
    "                        save_txt=False,  # Save bbox coordination\n",
    "                        save_conf=False,  # save_txt must be True\n",
    "                        save_crop=False,\n",
    "                        # project='runs/detect',\n",
    "                        stream=False  # Do inference now (False) or after (True)\n",
    "                        )"
   ]
  },
  {
   "cell_type": "code",
   "execution_count": null,
   "id": "3915a4ea-73e6-4cc1-9a3b-6a4a197cd9cc",
   "metadata": {},
   "outputs": [],
   "source": [
    "xyxy = results_img_cv2[0].boxes.xyxy.cpu().numpy().astype(int)\n",
    "xyxy"
   ]
  },
  {
   "cell_type": "code",
   "execution_count": null,
   "id": "6c3896fe-0cc7-40f8-83b8-c92794b29d86",
   "metadata": {},
   "outputs": [],
   "source": [
    "img_cv_cropped = img_cv[xyxy[0][1]:xyxy[0][3], xyxy[0][0]:xyxy[0][2]]\n",
    "Image.fromarray(cv2.cvtColor(img_cv_cropped, cv2.COLOR_BGR2RGB))"
   ]
  },
  {
   "cell_type": "markdown",
   "id": "b9531dce-af38-4eff-9a57-6186a2116bff",
   "metadata": {},
   "source": [
    "### Tracking\n",
    "\n",
    "Todos comandos e instruções: https://docs.ultralytics.com/modes/track/"
   ]
  },
  {
   "cell_type": "code",
   "execution_count": null,
   "id": "3d6a7526-bfca-446b-b1aa-fea492c26eaa",
   "metadata": {
    "scrolled": true
   },
   "outputs": [],
   "source": [
    "results_track = model.track(source='last.mp4',\n",
    "                            # project='runs/detect',\n",
    "                            show=False,\n",
    "                            save=True)"
   ]
  },
  {
   "cell_type": "code",
   "execution_count": null,
   "id": "aacace95-d023-42e8-8713-b85c22fa1639",
   "metadata": {
    "scrolled": true
   },
   "outputs": [],
   "source": [
    "results_track"
   ]
  },
  {
   "cell_type": "code",
   "execution_count": null,
   "id": "1ff62756-6acc-4b37-b769-872fab0d3edd",
   "metadata": {},
   "outputs": [],
   "source": [
    "results_track[0].boxes"
   ]
  }
 ],
 "metadata": {
  "kernelspec": {
   "display_name": "Python 3 (ipykernel)",
   "language": "python",
   "name": "python3"
  },
  "language_info": {
   "codemirror_mode": {
    "name": "ipython",
    "version": 3
   },
   "file_extension": ".py",
   "mimetype": "text/x-python",
   "name": "python",
   "nbconvert_exporter": "python",
   "pygments_lexer": "ipython3",
   "version": "3.12.5"
  }
 },
 "nbformat": 4,
 "nbformat_minor": 5
}
